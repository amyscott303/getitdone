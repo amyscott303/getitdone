{
 "cells": [
  {
   "cell_type": "code",
   "execution_count": 1,
   "metadata": {},
   "outputs": [],
   "source": [
    "import numpy as np\n",
    "import pandas as pd\n",
    "import scipy\n",
    "from datetime import datetime\n",
    "import datetime as dt\n",
    "import matplotlib.pyplot as plt\n",
    "import seaborn as sns\n",
    "import scipy.stats as stats\n",
    "from sklearn.linear_model import LinearRegression\n",
    "import statsmodels.formula.api as smf\n",
    "from sklearn.preprocessing import Binarizer\n",
    "from sklearn.metrics import f1_score, mean_squared_error\n",
    "from sklearn.model_selection import train_test_split\n",
    "from statsmodels.sandbox.regression.predstd import wls_prediction_std\n",
    "from sklearn import datasets, linear_model\n",
    "\n",
    "from sklearn.model_selection import train_test_split\n",
    "\n",
    "\n",
    "%matplotlib inline"
   ]
  },
  {
   "cell_type": "code",
   "execution_count": 2,
   "metadata": {
    "scrolled": false
   },
   "outputs": [
    {
     "data": {
      "text/html": [
       "<div>\n",
       "<style scoped>\n",
       "    .dataframe tbody tr th:only-of-type {\n",
       "        vertical-align: middle;\n",
       "    }\n",
       "\n",
       "    .dataframe tbody tr th {\n",
       "        vertical-align: top;\n",
       "    }\n",
       "\n",
       "    .dataframe thead th {\n",
       "        text-align: right;\n",
       "    }\n",
       "</style>\n",
       "<table border=\"1\" class=\"dataframe\">\n",
       "  <thead>\n",
       "    <tr style=\"text-align: right;\">\n",
       "      <th></th>\n",
       "      <th>Unnamed: 0</th>\n",
       "      <th>start_station_id</th>\n",
       "      <th>start_station_latitude</th>\n",
       "      <th>start_station_longitude</th>\n",
       "      <th>tripduration</th>\n",
       "      <th>tmp</th>\n",
       "      <th>CensusTract</th>\n",
       "      <th>County_x</th>\n",
       "      <th>Borough</th>\n",
       "      <th>TotalPop</th>\n",
       "      <th>...</th>\n",
       "      <th>FamilyWork</th>\n",
       "      <th>Unemployment</th>\n",
       "      <th>Latitude</th>\n",
       "      <th>Longitude</th>\n",
       "      <th>BlockCode</th>\n",
       "      <th>County_y</th>\n",
       "      <th>State</th>\n",
       "      <th>BlockCode_11</th>\n",
       "      <th>borough_distance</th>\n",
       "      <th>distance_rank</th>\n",
       "    </tr>\n",
       "  </thead>\n",
       "  <tbody>\n",
       "    <tr>\n",
       "      <th>0</th>\n",
       "      <td>6521</td>\n",
       "      <td>72.0</td>\n",
       "      <td>40.767272</td>\n",
       "      <td>-73.993929</td>\n",
       "      <td>3607</td>\n",
       "      <td>tmp</td>\n",
       "      <td>36061013500</td>\n",
       "      <td>New York</td>\n",
       "      <td>Manhattan</td>\n",
       "      <td>6384</td>\n",
       "      <td>...</td>\n",
       "      <td>0.0</td>\n",
       "      <td>5.7</td>\n",
       "      <td>40.767186</td>\n",
       "      <td>-73.995075</td>\n",
       "      <td>360610135002005</td>\n",
       "      <td>New York</td>\n",
       "      <td>NY</td>\n",
       "      <td>36061013500</td>\n",
       "      <td>0.097058</td>\n",
       "      <td>1.0</td>\n",
       "    </tr>\n",
       "    <tr>\n",
       "      <th>2</th>\n",
       "      <td>42233</td>\n",
       "      <td>82.0</td>\n",
       "      <td>40.711174</td>\n",
       "      <td>-74.000165</td>\n",
       "      <td>1214</td>\n",
       "      <td>tmp</td>\n",
       "      <td>36061002900</td>\n",
       "      <td>New York</td>\n",
       "      <td>Manhattan</td>\n",
       "      <td>6050</td>\n",
       "      <td>...</td>\n",
       "      <td>0.0</td>\n",
       "      <td>3.3</td>\n",
       "      <td>40.710653</td>\n",
       "      <td>-74.001407</td>\n",
       "      <td>360610029004022</td>\n",
       "      <td>New York</td>\n",
       "      <td>NY</td>\n",
       "      <td>36061002900</td>\n",
       "      <td>0.119646</td>\n",
       "      <td>1.0</td>\n",
       "    </tr>\n",
       "    <tr>\n",
       "      <th>3</th>\n",
       "      <td>56934</td>\n",
       "      <td>83.0</td>\n",
       "      <td>40.683826</td>\n",
       "      <td>-73.976323</td>\n",
       "      <td>1623</td>\n",
       "      <td>tmp</td>\n",
       "      <td>36047012901</td>\n",
       "      <td>Kings</td>\n",
       "      <td>Brooklyn</td>\n",
       "      <td>2577</td>\n",
       "      <td>...</td>\n",
       "      <td>0.0</td>\n",
       "      <td>5.7</td>\n",
       "      <td>40.683518</td>\n",
       "      <td>-73.976080</td>\n",
       "      <td>360470129011002</td>\n",
       "      <td>Kings</td>\n",
       "      <td>NY</td>\n",
       "      <td>36047012901</td>\n",
       "      <td>0.039960</td>\n",
       "      <td>1.0</td>\n",
       "    </tr>\n",
       "    <tr>\n",
       "      <th>4</th>\n",
       "      <td>78536</td>\n",
       "      <td>116.0</td>\n",
       "      <td>40.741776</td>\n",
       "      <td>-74.001497</td>\n",
       "      <td>5761</td>\n",
       "      <td>tmp</td>\n",
       "      <td>36061008300</td>\n",
       "      <td>New York</td>\n",
       "      <td>Manhattan</td>\n",
       "      <td>3929</td>\n",
       "      <td>...</td>\n",
       "      <td>0.0</td>\n",
       "      <td>11.3</td>\n",
       "      <td>40.742312</td>\n",
       "      <td>-74.001407</td>\n",
       "      <td>360610083001000</td>\n",
       "      <td>New York</td>\n",
       "      <td>NY</td>\n",
       "      <td>36061008300</td>\n",
       "      <td>0.060052</td>\n",
       "      <td>1.0</td>\n",
       "    </tr>\n",
       "    <tr>\n",
       "      <th>5</th>\n",
       "      <td>93334</td>\n",
       "      <td>119.0</td>\n",
       "      <td>40.696089</td>\n",
       "      <td>-73.978034</td>\n",
       "      <td>454</td>\n",
       "      <td>tmp</td>\n",
       "      <td>36047021100</td>\n",
       "      <td>Kings</td>\n",
       "      <td>Brooklyn</td>\n",
       "      <td>1362</td>\n",
       "      <td>...</td>\n",
       "      <td>0.0</td>\n",
       "      <td>9.2</td>\n",
       "      <td>40.697085</td>\n",
       "      <td>-73.979246</td>\n",
       "      <td>360470211001001</td>\n",
       "      <td>Kings</td>\n",
       "      <td>NY</td>\n",
       "      <td>36047021100</td>\n",
       "      <td>0.150738</td>\n",
       "      <td>1.0</td>\n",
       "    </tr>\n",
       "  </tbody>\n",
       "</table>\n",
       "<p>5 rows × 50 columns</p>\n",
       "</div>"
      ],
      "text/plain": [
       "   Unnamed: 0  start_station_id  start_station_latitude  \\\n",
       "0        6521              72.0               40.767272   \n",
       "2       42233              82.0               40.711174   \n",
       "3       56934              83.0               40.683826   \n",
       "4       78536             116.0               40.741776   \n",
       "5       93334             119.0               40.696089   \n",
       "\n",
       "   start_station_longitude  tripduration  tmp  CensusTract  County_x  \\\n",
       "0               -73.993929          3607  tmp  36061013500  New York   \n",
       "2               -74.000165          1214  tmp  36061002900  New York   \n",
       "3               -73.976323          1623  tmp  36047012901     Kings   \n",
       "4               -74.001497          5761  tmp  36061008300  New York   \n",
       "5               -73.978034           454  tmp  36047021100     Kings   \n",
       "\n",
       "     Borough  TotalPop  ...  FamilyWork  Unemployment   Latitude  Longitude  \\\n",
       "0  Manhattan      6384  ...         0.0           5.7  40.767186 -73.995075   \n",
       "2  Manhattan      6050  ...         0.0           3.3  40.710653 -74.001407   \n",
       "3   Brooklyn      2577  ...         0.0           5.7  40.683518 -73.976080   \n",
       "4  Manhattan      3929  ...         0.0          11.3  40.742312 -74.001407   \n",
       "5   Brooklyn      1362  ...         0.0           9.2  40.697085 -73.979246   \n",
       "\n",
       "         BlockCode  County_y  State  BlockCode_11  borough_distance  \\\n",
       "0  360610135002005  New York     NY   36061013500          0.097058   \n",
       "2  360610029004022  New York     NY   36061002900          0.119646   \n",
       "3  360470129011002     Kings     NY   36047012901          0.039960   \n",
       "4  360610083001000  New York     NY   36061008300          0.060052   \n",
       "5  360470211001001     Kings     NY   36047021100          0.150738   \n",
       "\n",
       "   distance_rank  \n",
       "0            1.0  \n",
       "2            1.0  \n",
       "3            1.0  \n",
       "4            1.0  \n",
       "5            1.0  \n",
       "\n",
       "[5 rows x 50 columns]"
      ]
     },
     "execution_count": 2,
     "metadata": {},
     "output_type": "execute_result"
    }
   ],
   "source": [
    "#importing in the dataframe created previously\n",
    "df= pd.read_csv('NY_bike_close.csv').dropna(axis=0)\n",
    "df.head()"
   ]
  },
  {
   "cell_type": "code",
   "execution_count": 3,
   "metadata": {},
   "outputs": [
    {
     "data": {
      "text/plain": [
       "Unnamed: 0                   int64\n",
       "start_station_id           float64\n",
       "start_station_latitude     float64\n",
       "start_station_longitude    float64\n",
       "tripduration                 int64\n",
       "tmp                         object\n",
       "CensusTract                  int64\n",
       "County_x                    object\n",
       "Borough                     object\n",
       "TotalPop                     int64\n",
       "Men                          int64\n",
       "Women                        int64\n",
       "Hispanic                   float64\n",
       "White                      float64\n",
       "Black                      float64\n",
       "Native                     float64\n",
       "Asian                      float64\n",
       "Citizen                      int64\n",
       "Income                     float64\n",
       "IncomeErr                  float64\n",
       "IncomePerCap               float64\n",
       "IncomePerCapErr            float64\n",
       "Poverty                    float64\n",
       "ChildPoverty               float64\n",
       "Professional               float64\n",
       "Service                    float64\n",
       "Office                     float64\n",
       "Construction               float64\n",
       "Production                 float64\n",
       "Drive                      float64\n",
       "Carpool                    float64\n",
       "Transit                    float64\n",
       "Walk                       float64\n",
       "OtherTransp                float64\n",
       "WorkAtHome                 float64\n",
       "MeanCommute                float64\n",
       "Employed                     int64\n",
       "PrivateWork                float64\n",
       "PublicWork                 float64\n",
       "SelfEmployed               float64\n",
       "FamilyWork                 float64\n",
       "Unemployment               float64\n",
       "Latitude                   float64\n",
       "Longitude                  float64\n",
       "BlockCode                    int64\n",
       "County_y                    object\n",
       "State                       object\n",
       "BlockCode_11                 int64\n",
       "borough_distance           float64\n",
       "distance_rank              float64\n",
       "dtype: object"
      ]
     },
     "execution_count": 3,
     "metadata": {},
     "output_type": "execute_result"
    }
   ],
   "source": [
    "df.dtypes"
   ]
  },
  {
   "cell_type": "code",
   "execution_count": 4,
   "metadata": {},
   "outputs": [
    {
     "data": {
      "text/plain": [
       "Text(0.5, 1.0, 'Ride Trip Duration')"
      ]
     },
     "execution_count": 4,
     "metadata": {},
     "output_type": "execute_result"
    },
    {
     "data": {
      "image/png": "[encoded data removed]",
      "text/plain": [
       "<Figure size 1152x576 with 1 Axes>"
      ]
     },
     "metadata": {
      "needs_background": "light"
     },
     "output_type": "display_data"
    }
   ],
   "source": [
    "plt.figure(figsize=(16, 8))\n",
    "df.tripduration.hist( bins=50)\n",
    "plt.xlabel(\"Time Of Ride- in seconds\")\n",
    "plt.ylabel('Total Trips')\n",
    "plt.title ('Ride Trip Duration')"
   ]
  },
  {
   "cell_type": "code",
   "execution_count": 5,
   "metadata": {},
   "outputs": [],
   "source": [
    "# to normalize the data,I used the log function on the tripduration column\n",
    "df['log_tripcount']=np.log(df.tripduration)"
   ]
  },
  {
   "cell_type": "code",
   "execution_count": 6,
   "metadata": {
    "scrolled": false
   },
   "outputs": [
    {
     "data": {
      "text/plain": [
       "Text(0.5, 1.0, 'Log of Ride Trip Duration')"
      ]
     },
     "execution_count": 6,
     "metadata": {},
     "output_type": "execute_result"
    },
    {
     "data": {
      "image/png": "[encoded data removed]",
      "text/plain": [
       "<Figure size 1152x576 with 1 Axes>"
      ]
     },
     "metadata": {
      "needs_background": "light"
     },
     "output_type": "display_data"
    }
   ],
   "source": [
    "plt.figure(figsize=(16, 8))\n",
    "df.log_tripcount.hist( bins=50)\n",
    "plt.xlabel(\"Log of Trip Count\")\n",
    "plt.ylabel('Total Trips')\n",
    "plt.title ('Log of Ride Trip Duration')"
   ]
  },
  {
   "cell_type": "code",
   "execution_count": 7,
   "metadata": {},
   "outputs": [
    {
     "data": {
      "image/png": "[encoded data removed]",
      "text/plain": [
       "<Figure size 864x648 with 2 Axes>"
      ]
     },
     "metadata": {
      "needs_background": "light"
     },
     "output_type": "display_data"
    }
   ],
   "source": [
    "corrmat = df.corr()\n",
    "\n",
    "\n",
    "f, ax = plt.subplots(figsize=(12, 9))\n",
    "\n",
    "sns.heatmap(corrmat, vmax=.8, square=True)\n",
    "plt.show()\n"
   ]
  },
  {
   "cell_type": "code",
   "execution_count": 8,
   "metadata": {},
   "outputs": [],
   "source": [
    "# Using the heat correlation map above selecting features \n",
    "x=df[['borough_distance','TotalPop','Men','Women','Income','Poverty','start_station_id','Drive','Carpool','Walk','OtherTransp',\n",
    "     'WorkAtHome','MeanCommute','Employed','Unemployment','PrivateWork','PublicWork','SelfEmployed','FamilyWork', 'tripduration',\n",
    "     'CensusTract','Hispanic','White','Black','Native','Asian','Citizen','IncomePerCap','Professional','Service','Office',\n",
    "     'Construction','Production','Latitude','Longitude','BlockCode','log_tripcount']].dropna(axis=0)\n",
    "\n",
    "y=df['tripduration'].dropna"
   ]
  },
  {
   "cell_type": "code",
   "execution_count": 9,
   "metadata": {
    "scrolled": false
   },
   "outputs": [
    {
     "data": {
      "image/png": "[encoded data removed]",
      "text/plain": [
       "<Figure size 864x648 with 2 Axes>"
      ]
     },
     "metadata": {
      "needs_background": "light"
     },
     "output_type": "display_data"
    }
   ],
   "source": [
    "corrmat=x.corr()\n",
    "f, ax = plt.subplots(figsize=(12, 9))\n",
    "sns.heatmap(corrmat,vmax=.8,square=True)\n",
    "plt.title('Correlation Graph of NY Census Information vs Bike Share Usage')\n",
    "plt.show()\n"
   ]
  },
  {
   "cell_type": "code",
   "execution_count": 10,
   "metadata": {},
   "outputs": [],
   "source": [
    "from sklearn.svm import SVC\n",
    "from sklearn.metrics import confusion_matrix\n",
    "np.random.seed(123)"
   ]
  },
  {
   "cell_type": "code",
   "execution_count": 11,
   "metadata": {},
   "outputs": [],
   "source": [
    "corr = x.corr()"
   ]
  },
  {
   "cell_type": "code",
   "execution_count": 12,
   "metadata": {},
   "outputs": [],
   "source": [
    "import statsmodels.api as sm"
   ]
  },
  {
   "cell_type": "code",
   "execution_count": 13,
   "metadata": {
    "scrolled": true
   },
   "outputs": [
    {
     "data": {
      "text/plain": [
       "statsmodels.regression.linear_model.OLS"
      ]
     },
     "execution_count": 13,
     "metadata": {},
     "output_type": "execute_result"
    }
   ],
   "source": [
    "#Running the statsmodel to determine the p-values of the selected features. \n",
    "reg1 = sm.OLS(endog= x['tripduration'], exog=x[['borough_distance','TotalPop','Men','Women','Income','Poverty','start_station_id','Drive','Carpool','Walk','OtherTransp',\n",
    "     'WorkAtHome','MeanCommute','Employed','Unemployment','PrivateWork','PublicWork','SelfEmployed','FamilyWork', 'tripduration',\n",
    "     'CensusTract','Hispanic','White','Black','Native','Asian','Citizen','IncomePerCap','Professional','Service','Office',\n",
    "     'Construction','Production','Latitude','Longitude','BlockCode','log_tripcount']], missing='drop')\n",
    "type(reg1)"
   ]
  },
  {
   "cell_type": "code",
   "execution_count": 14,
   "metadata": {},
   "outputs": [
    {
     "name": "stdout",
     "output_type": "stream",
     "text": [
      "                            OLS Regression Results                            \n",
      "==============================================================================\n",
      "Dep. Variable:           tripduration   R-squared:                       1.000\n",
      "Model:                            OLS   Adj. R-squared:                  1.000\n",
      "Method:                 Least Squares   F-statistic:                 1.252e+12\n",
      "Date:                Tue, 01 Oct 2019   Prob (F-statistic):               0.00\n",
      "Time:                        13:24:41   Log-Likelihood:                 4490.6\n",
      "No. Observations:                1495   AIC:                            -8939.\n",
      "Df Residuals:                    1474   BIC:                            -8828.\n",
      "Df Model:                          20                                         \n",
      "Covariance Type:            nonrobust                                         \n",
      "====================================================================================\n",
      "                       coef    std err          t      P>|t|      [0.025      0.975]\n",
      "------------------------------------------------------------------------------------\n",
      "borough_distance  1.264e-06   3.15e-06      0.401      0.688   -4.92e-06    7.45e-06\n",
      "TotalPop           2.02e-05    5.9e-07     34.247      0.000     1.9e-05    2.14e-05\n",
      "Men              -4.353e-07   8.22e-07     -0.530      0.596   -2.05e-06    1.18e-06\n",
      "Women            -2.836e-05   7.98e-07    -35.546      0.000   -2.99e-05   -2.68e-05\n",
      "Income           -1.154e-07   2.02e-08     -5.720      0.000   -1.55e-07   -7.59e-08\n",
      "Poverty             -0.0007   6.07e-05    -11.737      0.000      -0.001      -0.001\n",
      "start_station_id   4.09e-06   2.89e-07     14.153      0.000    3.52e-06    4.66e-06\n",
      "Drive                0.0002   8.88e-05      2.521      0.012    4.96e-05       0.000\n",
      "Carpool           9.982e-05      0.000      0.469      0.639      -0.000       0.001\n",
      "Walk             -5.746e-06   4.55e-05     -0.126      0.900    -9.5e-05    8.35e-05\n",
      "OtherTransp       6.931e-05      0.000      0.656      0.512      -0.000       0.000\n",
      "WorkAtHome           0.0003      0.000      2.904      0.004    9.46e-05       0.000\n",
      "MeanCommute         -0.0003      0.000     -2.334      0.020      -0.000   -3.99e-05\n",
      "Employed         -8.182e-07   8.21e-07     -0.996      0.319   -2.43e-06    7.93e-07\n",
      "Unemployment     -2.076e-05      0.000     -0.189      0.850      -0.000       0.000\n",
      "PrivateWork       -5.24e-05      0.000     -0.239      0.811      -0.000       0.000\n",
      "PublicWork        -5.02e-06      0.000     -0.023      0.982      -0.000       0.000\n",
      "SelfEmployed        -0.0001      0.000     -0.602      0.547      -0.001       0.000\n",
      "FamilyWork           0.0002      0.001      0.293      0.770      -0.001       0.001\n",
      "tripduration         1.0000   3.81e-07   2.62e+06      0.000       1.000       1.000\n",
      "CensusTract      -1.323e-05   2.15e-05     -0.615      0.539   -5.54e-05     2.9e-05\n",
      "Hispanic         -6.766e-06      0.000     -0.037      0.970      -0.000       0.000\n",
      "White            -6.729e-06      0.000     -0.038      0.970      -0.000       0.000\n",
      "Black            -1.064e-05      0.000     -0.059      0.953      -0.000       0.000\n",
      "Native            1.151e-05      0.001      0.023      0.982      -0.001       0.001\n",
      "Asian             4.132e-06      0.000      0.022      0.982      -0.000       0.000\n",
      "Citizen          -3.621e-06   9.94e-07     -3.642      0.000   -5.57e-06   -1.67e-06\n",
      "IncomePerCap     -1.006e-07   2.22e-08     -4.531      0.000   -1.44e-07   -5.71e-08\n",
      "Professional      5.058e-07   4.36e-05      0.012      0.991   -8.49e-05    8.59e-05\n",
      "Service           4.621e-07   7.64e-05      0.006      0.995      -0.000       0.000\n",
      "Office            2.202e-06   6.35e-05      0.035      0.972      -0.000       0.000\n",
      "Construction     -9.625e-06      0.000     -0.072      0.943      -0.000       0.000\n",
      "Production        1.603e-06      0.000      0.016      0.988      -0.000       0.000\n",
      "Latitude          1.129e-06   4.21e-06      0.268      0.789   -7.14e-06     9.4e-06\n",
      "Longitude         2.359e-06   5.07e-06      0.466      0.642   -7.58e-06    1.23e-05\n",
      "BlockCode         1.323e-09   2.15e-09      0.615      0.539    -2.9e-09    5.54e-09\n",
      "log_tripcount    -1.246e-05      0.001     -0.021      0.983      -0.001       0.001\n",
      "==============================================================================\n",
      "Omnibus:                       95.949   Durbin-Watson:                   1.533\n",
      "Prob(Omnibus):                  0.000   Jarque-Bera (JB):              183.845\n",
      "Skew:                          -0.443   Prob(JB):                     1.20e-40\n",
      "Kurtosis:                       4.471   Cond. No.                     5.45e+16\n",
      "==============================================================================\n",
      "\n",
      "Warnings:\n",
      "[1] Standard Errors assume that the covariance matrix of the errors is correctly specified.\n",
      "[2] The condition number is large, 5.45e+16. This might indicate that there are\n",
      "strong multicollinearity or other numerical problems.\n"
     ]
    }
   ],
   "source": [
    "results = reg1.fit()\n",
    "type(results)\n",
    "print(results.summary())"
   ]
  },
  {
   "cell_type": "code",
   "execution_count": 15,
   "metadata": {},
   "outputs": [],
   "source": [
    "# Defining the dataframe with 10 features that have a p-value of less than 0.05 to avoid overfitting.\n",
    "df_p=df[['TotalPop','Women','Income','Poverty','start_station_id','Drive','WorkAtHome','MeanCommute',\n",
    "     'Citizen','IncomePerCap']].dropna(axis=0)"
   ]
  },
  {
   "cell_type": "code",
   "execution_count": 16,
   "metadata": {},
   "outputs": [
    {
     "data": {
      "text/plain": [
       "Index(['TotalPop', 'Women', 'Income', 'Poverty', 'start_station_id', 'Drive',\n",
       "       'WorkAtHome', 'MeanCommute', 'Citizen', 'IncomePerCap'],\n",
       "      dtype='object')"
      ]
     },
     "execution_count": 16,
     "metadata": {},
     "output_type": "execute_result"
    }
   ],
   "source": [
    "df_p.columns"
   ]
  },
  {
   "cell_type": "code",
   "execution_count": 17,
   "metadata": {
    "scrolled": true
   },
   "outputs": [
    {
     "data": {
      "text/plain": [
       "Index(['Unnamed: 0', 'start_station_id', 'start_station_latitude',\n",
       "       'start_station_longitude', 'tripduration', 'tmp', 'CensusTract',\n",
       "       'County_x', 'Borough', 'TotalPop', 'Men', 'Women', 'Hispanic', 'White',\n",
       "       'Black', 'Native', 'Asian', 'Citizen', 'Income', 'IncomeErr',\n",
       "       'IncomePerCap', 'IncomePerCapErr', 'Poverty', 'ChildPoverty',\n",
       "       'Professional', 'Service', 'Office', 'Construction', 'Production',\n",
       "       'Drive', 'Carpool', 'Transit', 'Walk', 'OtherTransp', 'WorkAtHome',\n",
       "       'MeanCommute', 'Employed', 'PrivateWork', 'PublicWork', 'SelfEmployed',\n",
       "       'FamilyWork', 'Unemployment', 'Latitude', 'Longitude', 'BlockCode',\n",
       "       'County_y', 'State', 'BlockCode_11', 'borough_distance',\n",
       "       'distance_rank', 'log_tripcount'],\n",
       "      dtype='object')"
      ]
     },
     "execution_count": 17,
     "metadata": {},
     "output_type": "execute_result"
    }
   ],
   "source": [
    "df.columns"
   ]
  },
  {
   "cell_type": "code",
   "execution_count": 18,
   "metadata": {},
   "outputs": [],
   "source": [
    "# Creating dummies (integers) for Borough and County_x columns so that they can be used in th models\n",
    "df_clean=df[['borough_distance','TotalPop','Men','Women','Income','Poverty','start_station_id','Drive','Carpool','Walk','OtherTransp',\n",
    "     'WorkAtHome','Employed','Unemployment','PrivateWork','PublicWork','SelfEmployed','FamilyWork','Borough','County_x','Hispanic','Black',\n",
    "            'Asian','White','Office','Construction','Production','Professional','Service']].dropna (axis=1)\n",
    "\n",
    "df_X=pd.concat([df_clean, pd.get_dummies(df_clean['Borough']),pd.get_dummies(df_clean['County_x'])],axis=1 )\n",
    "\n",
    "\n"
   ]
  },
  {
   "cell_type": "code",
   "execution_count": 19,
   "metadata": {},
   "outputs": [],
   "source": [
    "X = pd.concat([df_clean, pd.get_dummies(df_clean['Borough']),pd.get_dummies(df_clean['County_x'])], axis=1)\n",
    "\n",
    "Y = df['log_tripcount']"
   ]
  },
  {
   "cell_type": "code",
   "execution_count": 20,
   "metadata": {
    "scrolled": false
   },
   "outputs": [
    {
     "data": {
      "text/html": [
       "<div>\n",
       "<style scoped>\n",
       "    .dataframe tbody tr th:only-of-type {\n",
       "        vertical-align: middle;\n",
       "    }\n",
       "\n",
       "    .dataframe tbody tr th {\n",
       "        vertical-align: top;\n",
       "    }\n",
       "\n",
       "    .dataframe thead th {\n",
       "        text-align: right;\n",
       "    }\n",
       "</style>\n",
       "<table border=\"1\" class=\"dataframe\">\n",
       "  <thead>\n",
       "    <tr style=\"text-align: right;\">\n",
       "      <th></th>\n",
       "      <th>borough_distance</th>\n",
       "      <th>TotalPop</th>\n",
       "      <th>Men</th>\n",
       "      <th>Women</th>\n",
       "      <th>Income</th>\n",
       "      <th>Poverty</th>\n",
       "      <th>start_station_id</th>\n",
       "      <th>Drive</th>\n",
       "      <th>Carpool</th>\n",
       "      <th>Walk</th>\n",
       "      <th>...</th>\n",
       "      <th>Construction</th>\n",
       "      <th>Production</th>\n",
       "      <th>Professional</th>\n",
       "      <th>Service</th>\n",
       "      <th>Brooklyn</th>\n",
       "      <th>Manhattan</th>\n",
       "      <th>Queens</th>\n",
       "      <th>Kings</th>\n",
       "      <th>New York</th>\n",
       "      <th>Queens</th>\n",
       "    </tr>\n",
       "  </thead>\n",
       "  <tbody>\n",
       "    <tr>\n",
       "      <th>0</th>\n",
       "      <td>0.097058</td>\n",
       "      <td>6384</td>\n",
       "      <td>3286</td>\n",
       "      <td>3098</td>\n",
       "      <td>62290.0</td>\n",
       "      <td>18.6</td>\n",
       "      <td>72.0</td>\n",
       "      <td>6.9</td>\n",
       "      <td>1.1</td>\n",
       "      <td>39.5</td>\n",
       "      <td>...</td>\n",
       "      <td>1.1</td>\n",
       "      <td>4.3</td>\n",
       "      <td>57.5</td>\n",
       "      <td>13.2</td>\n",
       "      <td>0</td>\n",
       "      <td>1</td>\n",
       "      <td>0</td>\n",
       "      <td>0</td>\n",
       "      <td>1</td>\n",
       "      <td>0</td>\n",
       "    </tr>\n",
       "    <tr>\n",
       "      <th>2</th>\n",
       "      <td>0.119646</td>\n",
       "      <td>6050</td>\n",
       "      <td>3671</td>\n",
       "      <td>2379</td>\n",
       "      <td>30629.0</td>\n",
       "      <td>20.6</td>\n",
       "      <td>82.0</td>\n",
       "      <td>2.8</td>\n",
       "      <td>4.0</td>\n",
       "      <td>43.6</td>\n",
       "      <td>...</td>\n",
       "      <td>9.9</td>\n",
       "      <td>4.1</td>\n",
       "      <td>32.3</td>\n",
       "      <td>30.4</td>\n",
       "      <td>0</td>\n",
       "      <td>1</td>\n",
       "      <td>0</td>\n",
       "      <td>0</td>\n",
       "      <td>1</td>\n",
       "      <td>0</td>\n",
       "    </tr>\n",
       "    <tr>\n",
       "      <th>3</th>\n",
       "      <td>0.039960</td>\n",
       "      <td>2577</td>\n",
       "      <td>1102</td>\n",
       "      <td>1475</td>\n",
       "      <td>82071.0</td>\n",
       "      <td>11.2</td>\n",
       "      <td>83.0</td>\n",
       "      <td>1.2</td>\n",
       "      <td>0.0</td>\n",
       "      <td>8.7</td>\n",
       "      <td>...</td>\n",
       "      <td>0.0</td>\n",
       "      <td>0.7</td>\n",
       "      <td>61.5</td>\n",
       "      <td>17.5</td>\n",
       "      <td>1</td>\n",
       "      <td>0</td>\n",
       "      <td>0</td>\n",
       "      <td>1</td>\n",
       "      <td>0</td>\n",
       "      <td>0</td>\n",
       "    </tr>\n",
       "    <tr>\n",
       "      <th>4</th>\n",
       "      <td>0.060052</td>\n",
       "      <td>3929</td>\n",
       "      <td>1534</td>\n",
       "      <td>2395</td>\n",
       "      <td>69303.0</td>\n",
       "      <td>18.5</td>\n",
       "      <td>116.0</td>\n",
       "      <td>2.0</td>\n",
       "      <td>0.8</td>\n",
       "      <td>17.0</td>\n",
       "      <td>...</td>\n",
       "      <td>0.9</td>\n",
       "      <td>0.7</td>\n",
       "      <td>56.8</td>\n",
       "      <td>10.4</td>\n",
       "      <td>0</td>\n",
       "      <td>1</td>\n",
       "      <td>0</td>\n",
       "      <td>0</td>\n",
       "      <td>1</td>\n",
       "      <td>0</td>\n",
       "    </tr>\n",
       "    <tr>\n",
       "      <th>5</th>\n",
       "      <td>0.150738</td>\n",
       "      <td>1362</td>\n",
       "      <td>684</td>\n",
       "      <td>678</td>\n",
       "      <td>43000.0</td>\n",
       "      <td>18.7</td>\n",
       "      <td>119.0</td>\n",
       "      <td>25.8</td>\n",
       "      <td>2.3</td>\n",
       "      <td>4.7</td>\n",
       "      <td>...</td>\n",
       "      <td>3.8</td>\n",
       "      <td>11.5</td>\n",
       "      <td>44.3</td>\n",
       "      <td>22.7</td>\n",
       "      <td>1</td>\n",
       "      <td>0</td>\n",
       "      <td>0</td>\n",
       "      <td>1</td>\n",
       "      <td>0</td>\n",
       "      <td>0</td>\n",
       "    </tr>\n",
       "  </tbody>\n",
       "</table>\n",
       "<p>5 rows × 35 columns</p>\n",
       "</div>"
      ],
      "text/plain": [
       "   borough_distance  TotalPop   Men  Women   Income  Poverty  \\\n",
       "0          0.097058      6384  3286   3098  62290.0     18.6   \n",
       "2          0.119646      6050  3671   2379  30629.0     20.6   \n",
       "3          0.039960      2577  1102   1475  82071.0     11.2   \n",
       "4          0.060052      3929  1534   2395  69303.0     18.5   \n",
       "5          0.150738      1362   684    678  43000.0     18.7   \n",
       "\n",
       "   start_station_id  Drive  Carpool  Walk  ...  Construction  Production  \\\n",
       "0              72.0    6.9      1.1  39.5  ...           1.1         4.3   \n",
       "2              82.0    2.8      4.0  43.6  ...           9.9         4.1   \n",
       "3              83.0    1.2      0.0   8.7  ...           0.0         0.7   \n",
       "4             116.0    2.0      0.8  17.0  ...           0.9         0.7   \n",
       "5             119.0   25.8      2.3   4.7  ...           3.8        11.5   \n",
       "\n",
       "   Professional  Service  Brooklyn  Manhattan Queens  Kings New York Queens  \n",
       "0          57.5     13.2         0          1      0      0        1      0  \n",
       "2          32.3     30.4         0          1      0      0        1      0  \n",
       "3          61.5     17.5         1          0      0      1        0      0  \n",
       "4          56.8     10.4         0          1      0      0        1      0  \n",
       "5          44.3     22.7         1          0      0      1        0      0  \n",
       "\n",
       "[5 rows x 35 columns]"
      ]
     },
     "execution_count": 20,
     "metadata": {},
     "output_type": "execute_result"
    }
   ],
   "source": [
    "df_X.head()"
   ]
  },
  {
   "cell_type": "code",
   "execution_count": 21,
   "metadata": {},
   "outputs": [
    {
     "data": {
      "text/plain": [
       "Index(['borough_distance', 'TotalPop', 'Men', 'Women', 'Income', 'Poverty',\n",
       "       'start_station_id', 'Drive', 'Carpool', 'Walk', 'OtherTransp',\n",
       "       'WorkAtHome', 'Employed', 'Unemployment', 'PrivateWork', 'PublicWork',\n",
       "       'SelfEmployed', 'FamilyWork', 'Borough', 'County_x', 'Hispanic',\n",
       "       'Black', 'Asian', 'White', 'Office', 'Construction', 'Production',\n",
       "       'Professional', 'Service', 'Brooklyn', 'Manhattan', 'Queens', 'Kings',\n",
       "       'New York', 'Queens'],\n",
       "      dtype='object')"
      ]
     },
     "execution_count": 21,
     "metadata": {},
     "output_type": "execute_result"
    }
   ],
   "source": [
    "df_X.columns"
   ]
  },
  {
   "cell_type": "code",
   "execution_count": 22,
   "metadata": {
    "scrolled": true
   },
   "outputs": [
    {
     "data": {
      "text/html": [
       "<div>\n",
       "<style scoped>\n",
       "    .dataframe tbody tr th:only-of-type {\n",
       "        vertical-align: middle;\n",
       "    }\n",
       "\n",
       "    .dataframe tbody tr th {\n",
       "        vertical-align: top;\n",
       "    }\n",
       "\n",
       "    .dataframe thead th {\n",
       "        text-align: right;\n",
       "    }\n",
       "</style>\n",
       "<table border=\"1\" class=\"dataframe\">\n",
       "  <thead>\n",
       "    <tr style=\"text-align: right;\">\n",
       "      <th></th>\n",
       "      <th>borough_distance</th>\n",
       "      <th>TotalPop</th>\n",
       "      <th>Men</th>\n",
       "      <th>Women</th>\n",
       "      <th>Income</th>\n",
       "      <th>Poverty</th>\n",
       "      <th>start_station_id</th>\n",
       "      <th>Drive</th>\n",
       "      <th>Carpool</th>\n",
       "      <th>Walk</th>\n",
       "      <th>...</th>\n",
       "      <th>Construction</th>\n",
       "      <th>Production</th>\n",
       "      <th>Professional</th>\n",
       "      <th>Service</th>\n",
       "      <th>Brooklyn</th>\n",
       "      <th>Manhattan</th>\n",
       "      <th>Queens</th>\n",
       "      <th>Kings</th>\n",
       "      <th>New York</th>\n",
       "      <th>Queens</th>\n",
       "    </tr>\n",
       "  </thead>\n",
       "  <tbody>\n",
       "    <tr>\n",
       "      <th>0</th>\n",
       "      <td>0.097058</td>\n",
       "      <td>6384</td>\n",
       "      <td>3286</td>\n",
       "      <td>3098</td>\n",
       "      <td>62290.0</td>\n",
       "      <td>18.6</td>\n",
       "      <td>72.0</td>\n",
       "      <td>6.9</td>\n",
       "      <td>1.1</td>\n",
       "      <td>39.5</td>\n",
       "      <td>...</td>\n",
       "      <td>1.1</td>\n",
       "      <td>4.3</td>\n",
       "      <td>57.5</td>\n",
       "      <td>13.2</td>\n",
       "      <td>0</td>\n",
       "      <td>1</td>\n",
       "      <td>0</td>\n",
       "      <td>0</td>\n",
       "      <td>1</td>\n",
       "      <td>0</td>\n",
       "    </tr>\n",
       "    <tr>\n",
       "      <th>2</th>\n",
       "      <td>0.119646</td>\n",
       "      <td>6050</td>\n",
       "      <td>3671</td>\n",
       "      <td>2379</td>\n",
       "      <td>30629.0</td>\n",
       "      <td>20.6</td>\n",
       "      <td>82.0</td>\n",
       "      <td>2.8</td>\n",
       "      <td>4.0</td>\n",
       "      <td>43.6</td>\n",
       "      <td>...</td>\n",
       "      <td>9.9</td>\n",
       "      <td>4.1</td>\n",
       "      <td>32.3</td>\n",
       "      <td>30.4</td>\n",
       "      <td>0</td>\n",
       "      <td>1</td>\n",
       "      <td>0</td>\n",
       "      <td>0</td>\n",
       "      <td>1</td>\n",
       "      <td>0</td>\n",
       "    </tr>\n",
       "    <tr>\n",
       "      <th>3</th>\n",
       "      <td>0.039960</td>\n",
       "      <td>2577</td>\n",
       "      <td>1102</td>\n",
       "      <td>1475</td>\n",
       "      <td>82071.0</td>\n",
       "      <td>11.2</td>\n",
       "      <td>83.0</td>\n",
       "      <td>1.2</td>\n",
       "      <td>0.0</td>\n",
       "      <td>8.7</td>\n",
       "      <td>...</td>\n",
       "      <td>0.0</td>\n",
       "      <td>0.7</td>\n",
       "      <td>61.5</td>\n",
       "      <td>17.5</td>\n",
       "      <td>1</td>\n",
       "      <td>0</td>\n",
       "      <td>0</td>\n",
       "      <td>1</td>\n",
       "      <td>0</td>\n",
       "      <td>0</td>\n",
       "    </tr>\n",
       "    <tr>\n",
       "      <th>4</th>\n",
       "      <td>0.060052</td>\n",
       "      <td>3929</td>\n",
       "      <td>1534</td>\n",
       "      <td>2395</td>\n",
       "      <td>69303.0</td>\n",
       "      <td>18.5</td>\n",
       "      <td>116.0</td>\n",
       "      <td>2.0</td>\n",
       "      <td>0.8</td>\n",
       "      <td>17.0</td>\n",
       "      <td>...</td>\n",
       "      <td>0.9</td>\n",
       "      <td>0.7</td>\n",
       "      <td>56.8</td>\n",
       "      <td>10.4</td>\n",
       "      <td>0</td>\n",
       "      <td>1</td>\n",
       "      <td>0</td>\n",
       "      <td>0</td>\n",
       "      <td>1</td>\n",
       "      <td>0</td>\n",
       "    </tr>\n",
       "    <tr>\n",
       "      <th>5</th>\n",
       "      <td>0.150738</td>\n",
       "      <td>1362</td>\n",
       "      <td>684</td>\n",
       "      <td>678</td>\n",
       "      <td>43000.0</td>\n",
       "      <td>18.7</td>\n",
       "      <td>119.0</td>\n",
       "      <td>25.8</td>\n",
       "      <td>2.3</td>\n",
       "      <td>4.7</td>\n",
       "      <td>...</td>\n",
       "      <td>3.8</td>\n",
       "      <td>11.5</td>\n",
       "      <td>44.3</td>\n",
       "      <td>22.7</td>\n",
       "      <td>1</td>\n",
       "      <td>0</td>\n",
       "      <td>0</td>\n",
       "      <td>1</td>\n",
       "      <td>0</td>\n",
       "      <td>0</td>\n",
       "    </tr>\n",
       "  </tbody>\n",
       "</table>\n",
       "<p>5 rows × 35 columns</p>\n",
       "</div>"
      ],
      "text/plain": [
       "   borough_distance  TotalPop   Men  Women   Income  Poverty  \\\n",
       "0          0.097058      6384  3286   3098  62290.0     18.6   \n",
       "2          0.119646      6050  3671   2379  30629.0     20.6   \n",
       "3          0.039960      2577  1102   1475  82071.0     11.2   \n",
       "4          0.060052      3929  1534   2395  69303.0     18.5   \n",
       "5          0.150738      1362   684    678  43000.0     18.7   \n",
       "\n",
       "   start_station_id  Drive  Carpool  Walk  ...  Construction  Production  \\\n",
       "0              72.0    6.9      1.1  39.5  ...           1.1         4.3   \n",
       "2              82.0    2.8      4.0  43.6  ...           9.9         4.1   \n",
       "3              83.0    1.2      0.0   8.7  ...           0.0         0.7   \n",
       "4             116.0    2.0      0.8  17.0  ...           0.9         0.7   \n",
       "5             119.0   25.8      2.3   4.7  ...           3.8        11.5   \n",
       "\n",
       "   Professional  Service  Brooklyn  Manhattan Queens  Kings New York Queens  \n",
       "0          57.5     13.2         0          1      0      0        1      0  \n",
       "2          32.3     30.4         0          1      0      0        1      0  \n",
       "3          61.5     17.5         1          0      0      1        0      0  \n",
       "4          56.8     10.4         0          1      0      0        1      0  \n",
       "5          44.3     22.7         1          0      0      1        0      0  \n",
       "\n",
       "[5 rows x 35 columns]"
      ]
     },
     "execution_count": 22,
     "metadata": {},
     "output_type": "execute_result"
    }
   ],
   "source": [
    "Y.head()\n",
    "X.head()"
   ]
  },
  {
   "cell_type": "code",
   "execution_count": 23,
   "metadata": {},
   "outputs": [],
   "source": [
    "#Models below are first run through, no feature engineering yet. "
   ]
  },
  {
   "cell_type": "code",
   "execution_count": 24,
   "metadata": {
    "scrolled": true
   },
   "outputs": [],
   "source": [
    "y=df.log_tripcount\n",
    "X= df_X.drop ('Borough', 1).drop('County_x' , 1)\n",
    "(X_train, X_test, y_train, y_test)=train_test_split(X,y,test_size=0.25)\n",
    "lr=LinearRegression()"
   ]
  },
  {
   "cell_type": "code",
   "execution_count": 25,
   "metadata": {
    "scrolled": true
   },
   "outputs": [
    {
     "data": {
      "text/plain": [
       "0.6504471099372925"
      ]
     },
     "execution_count": 25,
     "metadata": {},
     "output_type": "execute_result"
    }
   ],
   "source": [
    "lr.fit(X_train,y_train)\n",
    "y_pred=lr.predict(X_test)\n",
    "lr.score(X_test,y_pred)\n",
    "mean_squared_error(y_test,y_pred)"
   ]
  },
  {
   "cell_type": "code",
   "execution_count": 26,
   "metadata": {},
   "outputs": [
    {
     "name": "stdout",
     "output_type": "stream",
     "text": [
      "R-squared regression: 0.4910456463578624\n",
      "R-squared PLSR: 0.48806498687104904\n"
     ]
    },
    {
     "data": {
      "image/png": "[encoded data removed]",
      "text/plain": [
       "<Figure size 432x288 with 1 Axes>"
      ]
     },
     "metadata": {
      "needs_background": "light"
     },
     "output_type": "display_data"
    }
   ],
   "source": [
    "from sklearn.cross_decomposition import PLSRegression\n",
    "\n",
    "regr = linear_model.LinearRegression()\n",
    "regr.fit(X, y)\n",
    "\n",
    "Y_pred = regr.predict(X)\n",
    "print('R-squared regression:', regr.score(X, y))\n",
    "\n",
    "\n",
    "pls1 = PLSRegression(n_components=10)\n",
    "\n",
    "\n",
    "pls1.fit(X, y)\n",
    "\n",
    "\n",
    "Y_PLS_pred = pls1.predict(X)\n",
    "print('R-squared PLSR:', pls1.score(X, y))\n",
    "\n",
    "\n",
    "plt.scatter(Y_pred,Y_PLS_pred) \n",
    "plt.xlabel('Predicted by features')\n",
    "plt.ylabel('Predicted by 10 features')\n",
    "plt.title('Comparing LR and PLSR predictions')\n",
    "plt.show()"
   ]
  },
  {
   "cell_type": "code",
   "execution_count": 27,
   "metadata": {},
   "outputs": [],
   "source": [
    "from sklearn.ensemble import RandomForestClassifier\n",
    "from sklearn.model_selection import train_test_split\n",
    "from sklearn import ensemble\n",
    "from sklearn.model_selection import cross_val_score\n",
    "from sklearn.ensemble import RandomForestRegressor\n",
    "from sklearn.model_selection import train_test_split\n",
    "from sklearn.datasets import make_classification\n",
    "from sklearn.datasets import make_regression\n",
    "\n"
   ]
  },
  {
   "cell_type": "code",
   "execution_count": 28,
   "metadata": {
    "scrolled": false
   },
   "outputs": [
    {
     "name": "stdout",
     "output_type": "stream",
     "text": [
      "\n",
      "R-squared simple model:\n",
      "0.4910456463578624\n"
     ]
    }
   ],
   "source": [
    "regr1 = linear_model.LinearRegression()\n",
    "Y_train = df['log_tripcount']\n",
    "X_train = df_X.drop ('Borough', 1).drop('County_x' , 1)\n",
    "\n",
    "regr1.fit(X_train, Y_train)\n",
    "print('\\nR-squared simple model:')\n",
    "print(regr1.score(X_train, Y_train))"
   ]
  },
  {
   "cell_type": "code",
   "execution_count": 29,
   "metadata": {
    "scrolled": true
   },
   "outputs": [
    {
     "data": {
      "text/html": [
       "<div>\n",
       "<style scoped>\n",
       "    .dataframe tbody tr th:only-of-type {\n",
       "        vertical-align: middle;\n",
       "    }\n",
       "\n",
       "    .dataframe tbody tr th {\n",
       "        vertical-align: top;\n",
       "    }\n",
       "\n",
       "    .dataframe thead th {\n",
       "        text-align: right;\n",
       "    }\n",
       "</style>\n",
       "<table border=\"1\" class=\"dataframe\">\n",
       "  <thead>\n",
       "    <tr style=\"text-align: right;\">\n",
       "      <th></th>\n",
       "      <th>borough_distance</th>\n",
       "      <th>TotalPop</th>\n",
       "      <th>Men</th>\n",
       "      <th>Women</th>\n",
       "      <th>Income</th>\n",
       "      <th>Poverty</th>\n",
       "      <th>start_station_id</th>\n",
       "      <th>Drive</th>\n",
       "      <th>Carpool</th>\n",
       "      <th>Walk</th>\n",
       "      <th>...</th>\n",
       "      <th>Construction</th>\n",
       "      <th>Production</th>\n",
       "      <th>Professional</th>\n",
       "      <th>Service</th>\n",
       "      <th>Brooklyn</th>\n",
       "      <th>Manhattan</th>\n",
       "      <th>Queens</th>\n",
       "      <th>Kings</th>\n",
       "      <th>New York</th>\n",
       "      <th>Queens</th>\n",
       "    </tr>\n",
       "  </thead>\n",
       "  <tbody>\n",
       "    <tr>\n",
       "      <th>0</th>\n",
       "      <td>0.097058</td>\n",
       "      <td>6384</td>\n",
       "      <td>3286</td>\n",
       "      <td>3098</td>\n",
       "      <td>62290.0</td>\n",
       "      <td>18.6</td>\n",
       "      <td>72.0</td>\n",
       "      <td>6.9</td>\n",
       "      <td>1.1</td>\n",
       "      <td>39.5</td>\n",
       "      <td>...</td>\n",
       "      <td>1.1</td>\n",
       "      <td>4.3</td>\n",
       "      <td>57.5</td>\n",
       "      <td>13.2</td>\n",
       "      <td>0</td>\n",
       "      <td>1</td>\n",
       "      <td>0</td>\n",
       "      <td>0</td>\n",
       "      <td>1</td>\n",
       "      <td>0</td>\n",
       "    </tr>\n",
       "    <tr>\n",
       "      <th>2</th>\n",
       "      <td>0.119646</td>\n",
       "      <td>6050</td>\n",
       "      <td>3671</td>\n",
       "      <td>2379</td>\n",
       "      <td>30629.0</td>\n",
       "      <td>20.6</td>\n",
       "      <td>82.0</td>\n",
       "      <td>2.8</td>\n",
       "      <td>4.0</td>\n",
       "      <td>43.6</td>\n",
       "      <td>...</td>\n",
       "      <td>9.9</td>\n",
       "      <td>4.1</td>\n",
       "      <td>32.3</td>\n",
       "      <td>30.4</td>\n",
       "      <td>0</td>\n",
       "      <td>1</td>\n",
       "      <td>0</td>\n",
       "      <td>0</td>\n",
       "      <td>1</td>\n",
       "      <td>0</td>\n",
       "    </tr>\n",
       "    <tr>\n",
       "      <th>3</th>\n",
       "      <td>0.039960</td>\n",
       "      <td>2577</td>\n",
       "      <td>1102</td>\n",
       "      <td>1475</td>\n",
       "      <td>82071.0</td>\n",
       "      <td>11.2</td>\n",
       "      <td>83.0</td>\n",
       "      <td>1.2</td>\n",
       "      <td>0.0</td>\n",
       "      <td>8.7</td>\n",
       "      <td>...</td>\n",
       "      <td>0.0</td>\n",
       "      <td>0.7</td>\n",
       "      <td>61.5</td>\n",
       "      <td>17.5</td>\n",
       "      <td>1</td>\n",
       "      <td>0</td>\n",
       "      <td>0</td>\n",
       "      <td>1</td>\n",
       "      <td>0</td>\n",
       "      <td>0</td>\n",
       "    </tr>\n",
       "    <tr>\n",
       "      <th>4</th>\n",
       "      <td>0.060052</td>\n",
       "      <td>3929</td>\n",
       "      <td>1534</td>\n",
       "      <td>2395</td>\n",
       "      <td>69303.0</td>\n",
       "      <td>18.5</td>\n",
       "      <td>116.0</td>\n",
       "      <td>2.0</td>\n",
       "      <td>0.8</td>\n",
       "      <td>17.0</td>\n",
       "      <td>...</td>\n",
       "      <td>0.9</td>\n",
       "      <td>0.7</td>\n",
       "      <td>56.8</td>\n",
       "      <td>10.4</td>\n",
       "      <td>0</td>\n",
       "      <td>1</td>\n",
       "      <td>0</td>\n",
       "      <td>0</td>\n",
       "      <td>1</td>\n",
       "      <td>0</td>\n",
       "    </tr>\n",
       "    <tr>\n",
       "      <th>5</th>\n",
       "      <td>0.150738</td>\n",
       "      <td>1362</td>\n",
       "      <td>684</td>\n",
       "      <td>678</td>\n",
       "      <td>43000.0</td>\n",
       "      <td>18.7</td>\n",
       "      <td>119.0</td>\n",
       "      <td>25.8</td>\n",
       "      <td>2.3</td>\n",
       "      <td>4.7</td>\n",
       "      <td>...</td>\n",
       "      <td>3.8</td>\n",
       "      <td>11.5</td>\n",
       "      <td>44.3</td>\n",
       "      <td>22.7</td>\n",
       "      <td>1</td>\n",
       "      <td>0</td>\n",
       "      <td>0</td>\n",
       "      <td>1</td>\n",
       "      <td>0</td>\n",
       "      <td>0</td>\n",
       "    </tr>\n",
       "  </tbody>\n",
       "</table>\n",
       "<p>5 rows × 35 columns</p>\n",
       "</div>"
      ],
      "text/plain": [
       "   borough_distance  TotalPop   Men  Women   Income  Poverty  \\\n",
       "0          0.097058      6384  3286   3098  62290.0     18.6   \n",
       "2          0.119646      6050  3671   2379  30629.0     20.6   \n",
       "3          0.039960      2577  1102   1475  82071.0     11.2   \n",
       "4          0.060052      3929  1534   2395  69303.0     18.5   \n",
       "5          0.150738      1362   684    678  43000.0     18.7   \n",
       "\n",
       "   start_station_id  Drive  Carpool  Walk  ...  Construction  Production  \\\n",
       "0              72.0    6.9      1.1  39.5  ...           1.1         4.3   \n",
       "2              82.0    2.8      4.0  43.6  ...           9.9         4.1   \n",
       "3              83.0    1.2      0.0   8.7  ...           0.0         0.7   \n",
       "4             116.0    2.0      0.8  17.0  ...           0.9         0.7   \n",
       "5             119.0   25.8      2.3   4.7  ...           3.8        11.5   \n",
       "\n",
       "   Professional  Service  Brooklyn  Manhattan Queens  Kings New York Queens  \n",
       "0          57.5     13.2         0          1      0      0        1      0  \n",
       "2          32.3     30.4         0          1      0      0        1      0  \n",
       "3          61.5     17.5         1          0      0      1        0      0  \n",
       "4          56.8     10.4         0          1      0      0        1      0  \n",
       "5          44.3     22.7         1          0      0      1        0      0  \n",
       "\n",
       "[5 rows x 35 columns]"
      ]
     },
     "execution_count": 29,
     "metadata": {},
     "output_type": "execute_result"
    }
   ],
   "source": [
    "df_X.head()"
   ]
  },
  {
   "cell_type": "code",
   "execution_count": 30,
   "metadata": {},
   "outputs": [
    {
     "data": {
      "text/plain": [
       "Index(['borough_distance', 'TotalPop', 'Men', 'Women', 'Income', 'Poverty',\n",
       "       'start_station_id', 'Drive', 'Carpool', 'Walk', 'OtherTransp',\n",
       "       'WorkAtHome', 'Employed', 'Unemployment', 'PrivateWork', 'PublicWork',\n",
       "       'SelfEmployed', 'FamilyWork', 'Borough', 'County_x', 'Hispanic',\n",
       "       'Black', 'Asian', 'White', 'Office', 'Construction', 'Production',\n",
       "       'Professional', 'Service', 'Brooklyn', 'Manhattan', 'Queens', 'Kings',\n",
       "       'New York', 'Queens'],\n",
       "      dtype='object')"
      ]
     },
     "execution_count": 30,
     "metadata": {},
     "output_type": "execute_result"
    }
   ],
   "source": [
    "df_X.columns"
   ]
  },
  {
   "cell_type": "code",
   "execution_count": 31,
   "metadata": {
    "scrolled": true
   },
   "outputs": [
    {
     "name": "stdout",
     "output_type": "stream",
     "text": [
      "[7.52669932e-02 5.74733141e-03 5.74385590e-03 8.01779199e-03\n",
      " 3.15309659e-02 1.63215667e-02 1.30606345e-01 3.10008967e-02\n",
      " 9.76762296e-03 2.24283477e-01 1.77314196e-02 1.32733781e-02\n",
      " 1.22262272e-02 1.09421336e-02 1.52239729e-02 1.40895768e-02\n",
      " 1.36839012e-02 1.61668154e-03 1.13478701e-02 4.19876168e-02\n",
      " 2.41320536e-02 1.25412169e-02 7.43133230e-03 9.21404432e-03\n",
      " 1.31071474e-02 4.78668788e-02 4.54119291e-02 3.71217592e-04\n",
      " 1.96960888e-03 2.47354829e-05 3.89251616e-03 1.43452836e-01\n",
      " 1.74859191e-04]\n"
     ]
    },
    {
     "name": "stderr",
     "output_type": "stream",
     "text": [
      "/anaconda3/lib/python3.7/site-packages/sklearn/ensemble/forest.py:246: FutureWarning: The default value of n_estimators will change from 10 in version 0.20 to 100 in 0.22.\n",
      "  \"10 in version 0.20 to 100 in 0.22.\", FutureWarning)\n"
     ]
    }
   ],
   "source": [
    "from sklearn import ensemble\n",
    "regr = ensemble.RandomForestRegressor()\n",
    "X = df_X.drop ('Borough', 1).drop('County_x' , 1)\n",
    "Y = df['log_tripcount']\n",
    "regr.fit(X, Y)\n",
    "\n",
    "print(regr.feature_importances_)"
   ]
  },
  {
   "cell_type": "code",
   "execution_count": 32,
   "metadata": {},
   "outputs": [],
   "source": [
    "#The random forest regressor is showing the most important features within the the df_X dataframe"
   ]
  },
  {
   "cell_type": "code",
   "execution_count": 33,
   "metadata": {},
   "outputs": [],
   "source": [
    "# Feature engineering "
   ]
  },
  {
   "cell_type": "code",
   "execution_count": 34,
   "metadata": {},
   "outputs": [],
   "source": [
    "y=df.log_tripcount\n",
    "X_feat=df_X.drop ('Borough', 1).drop('County_x' , 1)\n",
    "\n",
    "X_feat['male_usage']= X.Men / X.TotalPop *100\n",
    "X_feat['shared_trans'] = X.Carpool + X.Walk + X.OtherTransp\n",
    "X_feat['minority'] = X.Hispanic + X.Black + X.Asian\n",
    "X_feat['corporate'] = X.Office +X.Construction + X.PublicWork + X.Production\n",
    "(X_train, X_test, y_train, y_test)=train_test_split(X_feat,y,test_size=0.25)\n",
    "lr=LinearRegression()\n"
   ]
  },
  {
   "cell_type": "code",
   "execution_count": 35,
   "metadata": {},
   "outputs": [
    {
     "data": {
      "text/plain": [
       "0.6607169777506211"
      ]
     },
     "execution_count": 35,
     "metadata": {},
     "output_type": "execute_result"
    }
   ],
   "source": [
    "lr.fit(X_train,y_train)\n",
    "y_pred=lr.predict(X_test)\n",
    "lr.score(X_test,y_pred)\n",
    "mean_squared_error(y_test,y_pred)"
   ]
  },
  {
   "cell_type": "code",
   "execution_count": 36,
   "metadata": {},
   "outputs": [
    {
     "name": "stdout",
     "output_type": "stream",
     "text": [
      "R-squared regression: 0.4910456463578624\n",
      "R-squared PLSR: 0.48806498687104904\n"
     ]
    },
    {
     "data": {
      "image/png": "[encoded data removed]",
      "text/plain": [
       "<Figure size 432x288 with 1 Axes>"
      ]
     },
     "metadata": {
      "needs_background": "light"
     },
     "output_type": "display_data"
    }
   ],
   "source": [
    "regr = linear_model.LinearRegression()\n",
    "regr.fit(X, y)\n",
    "\n",
    "Y_pred = regr.predict(X)\n",
    "print('R-squared regression:', regr.score(X, y))\n",
    "\n",
    "\n",
    "pls1 = PLSRegression(n_components=10)\n",
    "\n",
    "\n",
    "pls1.fit(X, y)\n",
    "\n",
    "\n",
    "Y_PLS_pred = pls1.predict(X)\n",
    "print('R-squared PLSR:', pls1.score(X, y))\n",
    "\n",
    "\n",
    "plt.scatter(Y_pred,Y_PLS_pred) \n",
    "plt.xlabel('Predicted by features')\n",
    "plt.ylabel('Predicted by 10 features')\n",
    "plt.title('Comparing LR and PLSR predictions')\n",
    "plt.show()"
   ]
  },
  {
   "cell_type": "code",
   "execution_count": 37,
   "metadata": {},
   "outputs": [],
   "source": [
    "y_gb = df['log_tripcount'] - 1\n",
    "X_gb = df_X.loc[:,:]\n",
    "\n",
    "# Make the categorical variable 'country' into dummies.\n",
    "X_gb = df_X.drop ('Borough', 1).drop('County_x' , 1)\n",
    "\n",
    "# Create training and test sets.\n",
    "offset = int(X.shape[0] * 0.9)\n",
    "\n"
   ]
  },
  {
   "cell_type": "code",
   "execution_count": 38,
   "metadata": {},
   "outputs": [
    {
     "name": "stdout",
     "output_type": "stream",
     "text": [
      "MSE: 0.7824\n"
     ]
    }
   ],
   "source": [
    "params = {'n_estimators': 500,\n",
    "          'max_depth': 2}\n",
    "\n",
    "\n",
    "clf = ensemble.GradientBoostingRegressor(**params)\n",
    "\n",
    "clf.fit(X_train, y_train)\n",
    "mse = mean_squared_error(y_test, clf.predict(X_test))\n",
    "print(\"MSE: %.4f\" % mse)\n"
   ]
  },
  {
   "cell_type": "code",
   "execution_count": 39,
   "metadata": {},
   "outputs": [
    {
     "data": {
      "text/plain": [
       "GradientBoostingRegressor(alpha=0.9, criterion='friedman_mse', init=None,\n",
       "             learning_rate=0.01, loss='ls', max_depth=4, max_features=None,\n",
       "             max_leaf_nodes=None, min_impurity_decrease=0.0,\n",
       "             min_impurity_split=None, min_samples_leaf=1,\n",
       "             min_samples_split=2, min_weight_fraction_leaf=0.0,\n",
       "             n_estimators=500, n_iter_no_change=None, presort='auto',\n",
       "             random_state=None, subsample=1.0, tol=0.0001,\n",
       "             validation_fraction=0.1, verbose=0, warm_start=False)"
      ]
     },
     "execution_count": 39,
     "metadata": {},
     "output_type": "execute_result"
    }
   ],
   "source": [
    "params = {'n_estimators': 500, 'max_depth': 4, 'min_samples_split': 2,\n",
    "          'learning_rate': 0.01, 'loss': 'ls'}\n",
    "model = ensemble.GradientBoostingRegressor(**params)\n",
    "\n",
    "model.fit(X_train, y_train)"
   ]
  },
  {
   "cell_type": "code",
   "execution_count": 40,
   "metadata": {},
   "outputs": [
    {
     "name": "stdout",
     "output_type": "stream",
     "text": [
      "R2 sq:  0.6753638270354805\n",
      "Mean squared error: 0.68\n",
      "Test Variance score: 0.44\n"
     ]
    }
   ],
   "source": [
    "from sklearn.metrics import mean_squared_error, r2_score\n",
    "model_score = model.score(X_train, y_train)\n",
    "# Have a look at R sq to give an idea of the fit ,\n",
    "# Explained variance score: 1 is perfect prediction\n",
    "print('R2 sq: ',model_score)\n",
    "y_predicted = model.predict(X_test)\n",
    "\n",
    "# The mean squared error\n",
    "print(\"Mean squared error: %.2f\"% mean_squared_error(y_test, y_predicted))\n",
    "# Explained variance score: 1 is perfect prediction\n",
    "print('Test Variance score: %.2f' % r2_score(y_test, y_predicted))"
   ]
  },
  {
   "cell_type": "code",
   "execution_count": 41,
   "metadata": {
    "scrolled": true
   },
   "outputs": [
    {
     "data": {
      "image/png": "[encoded data removed]",
      "text/plain": [
       "<Figure size 432x288 with 1 Axes>"
      ]
     },
     "metadata": {
      "needs_background": "light"
     },
     "output_type": "display_data"
    }
   ],
   "source": [
    "from sklearn.model_selection import cross_val_predict\n",
    "\n",
    "fig, ax = plt.subplots()\n",
    "ax.scatter(y_test, y_predicted, edgecolors=(0, 0, 0))\n",
    "ax.plot([y_test.min(), y_test.max()], [y_test.min(), y_test.max()], 'k--', lw=4)\n",
    "ax.set_xlabel('Actual')\n",
    "ax.set_ylabel('Predicted')\n",
    "ax.set_title(\"Ground Truth vs Predicted\")\n",
    "plt.show()"
   ]
  },
  {
   "cell_type": "markdown",
   "metadata": {},
   "source": [
    "Showing that for higher value data there is a stronger fit then those with lower value has a looser fit amongst the linear line. "
   ]
  },
  {
   "cell_type": "code",
   "execution_count": 42,
   "metadata": {},
   "outputs": [
    {
     "data": {
      "text/plain": [
       "Text(0, 0.5, 'Deviance')"
      ]
     },
     "execution_count": 42,
     "metadata": {},
     "output_type": "execute_result"
    },
    {
     "data": {
      "image/png": "[encoded data removed]",
      "text/plain": [
       "<Figure size 864x432 with 1 Axes>"
      ]
     },
     "metadata": {
      "needs_background": "light"
     },
     "output_type": "display_data"
    }
   ],
   "source": [
    "test_score = np.zeros((params['n_estimators'],), dtype=np.float64)\n",
    "\n",
    "for i, y_pred in enumerate(clf.staged_predict(X_test)):\n",
    "    test_score[i] = clf.loss_(y_test, y_pred)\n",
    "\n",
    "plt.figure(figsize=(12, 6))\n",
    "plt.subplot(1, 2, 1)\n",
    "plt.title('Deviance')\n",
    "plt.plot(np.arange(params['n_estimators']) + 1, clf.train_score_, 'b-',\n",
    "         label='Training Set Deviance')\n",
    "plt.plot(np.arange(params['n_estimators']) + 1, test_score, 'r-',\n",
    "         label='Test Set Deviance')\n",
    "plt.legend(loc='upper right')\n",
    "plt.xlabel('Boosting Iterations')\n",
    "plt.ylabel('Deviance')"
   ]
  },
  {
   "cell_type": "code",
   "execution_count": 43,
   "metadata": {},
   "outputs": [
    {
     "data": {
      "image/png": "[encoded data removed]",
      "text/plain": [
       "<Figure size 432x288 with 1 Axes>"
      ]
     },
     "metadata": {
      "needs_background": "light"
     },
     "output_type": "display_data"
    }
   ],
   "source": [
    "feature_importance = clf.feature_importances_\n",
    "# make importances relative to max importance\n",
    "feature_importance = 100.0 * (feature_importance / feature_importance.max())\n",
    "sorted_idx = np.argsort(feature_importance)\n",
    "pos = np.arange(sorted_idx.shape[0]) + .5\n",
    "plt.subplot(1, 2, 2)\n",
    "plt.barh(pos, feature_importance[sorted_idx], align='center')\n",
    "plt.yticks(pos,df_X)\n",
    "plt.xlabel('Relative Importance')\n",
    "plt.title('Variable Importance')\n",
    "plt.show()"
   ]
  },
  {
   "cell_type": "code",
   "execution_count": 44,
   "metadata": {
    "scrolled": true
   },
   "outputs": [
    {
     "data": {
      "image/png": "[encoded data removed]",
      "text/plain": [
       "<Figure size 1440x1080 with 12 Axes>"
      ]
     },
     "metadata": {
      "needs_background": "light"
     },
     "output_type": "display_data"
    }
   ],
   "source": [
    "%matplotlib inline\n",
    "import matplotlib.pyplot as plt\n",
    "df_p.hist(bins=50, figsize=(20,15))\n",
    "plt.savefig(\"attribute_histogram_plots\")\n",
    "plt.show()"
   ]
  },
  {
   "cell_type": "code",
   "execution_count": 45,
   "metadata": {},
   "outputs": [],
   "source": [
    "# Models run with df_p for X have features with a p-value less than 0.05"
   ]
  },
  {
   "cell_type": "code",
   "execution_count": 46,
   "metadata": {},
   "outputs": [],
   "source": [
    "# Define X and y\n",
    "y=df.log_tripcount\n",
    "X= df_p\n",
    "(X_train, X_test, y_train, y_test)=train_test_split(X,y,test_size=0.25)\n",
    "lr=LinearRegression()"
   ]
  },
  {
   "cell_type": "code",
   "execution_count": 47,
   "metadata": {},
   "outputs": [
    {
     "data": {
      "text/plain": [
       "Index(['TotalPop', 'Women', 'Income', 'Poverty', 'start_station_id', 'Drive',\n",
       "       'WorkAtHome', 'MeanCommute', 'Citizen', 'IncomePerCap'],\n",
       "      dtype='object')"
      ]
     },
     "execution_count": 47,
     "metadata": {},
     "output_type": "execute_result"
    }
   ],
   "source": [
    "df_p.columns"
   ]
  },
  {
   "cell_type": "code",
   "execution_count": 48,
   "metadata": {},
   "outputs": [
    {
     "data": {
      "text/plain": [
       "0.705723335525443"
      ]
     },
     "execution_count": 48,
     "metadata": {},
     "output_type": "execute_result"
    }
   ],
   "source": [
    "# Linear Regression model\n",
    "lr.fit(X_train,y_train)\n",
    "y_lr_pred=lr.predict(X_test)\n",
    "lr.score(X_test,y_lr_pred)\n",
    "mean_squared_error(y_test,y_lr_pred)"
   ]
  },
  {
   "cell_type": "code",
   "execution_count": 49,
   "metadata": {},
   "outputs": [
    {
     "name": "stdout",
     "output_type": "stream",
     "text": [
      "R-squared regression: 0.46817270419122187\n",
      "R-squared PLSR: 0.46817270419122187\n"
     ]
    },
    {
     "data": {
      "image/png": "[encoded data removed]",
      "text/plain": [
       "<Figure size 432x288 with 1 Axes>"
      ]
     },
     "metadata": {
      "needs_background": "light"
     },
     "output_type": "display_data"
    }
   ],
   "source": [
    "# R-squared Linear Regression and Partial Least Square Regression\n",
    "regr = linear_model.LinearRegression()\n",
    "regr.fit(X, y)\n",
    "\n",
    "Y_lr_pred = regr.predict(X_test)\n",
    "print('R-squared regression:', regr.score(X, y))\n",
    "\n",
    "\n",
    "pls1 = PLSRegression(n_components=10)\n",
    "\n",
    "\n",
    "pls1.fit(X, y)\n",
    "\n",
    "\n",
    "Y_PLS_pred = pls1.predict(X)\n",
    "print('R-squared PLSR:', pls1.score(X, y))\n",
    "\n",
    "\n",
    "plt.scatter(Y_pred,Y_PLS_pred) \n",
    "plt.xlabel('Predicted by features')\n",
    "plt.ylabel('Predicted by 10 features')\n",
    "plt.title('Comparing LR and PLSR predictions')\n",
    "plt.show()"
   ]
  },
  {
   "cell_type": "markdown",
   "metadata": {},
   "source": [
    "The model shows that the data is fit pretty well along the line with a few outliers in the lower values. "
   ]
  },
  {
   "cell_type": "code",
   "execution_count": 50,
   "metadata": {},
   "outputs": [
    {
     "name": "stdout",
     "output_type": "stream",
     "text": [
      "\n",
      "R-squared simple model:\n",
      "0.46817270419122187\n"
     ]
    }
   ],
   "source": [
    "regr1 = linear_model.LinearRegression()\n",
    "Y_train = df['log_tripcount']\n",
    "X_train = df_p\n",
    "\n",
    "regr1.fit(X_train, Y_train)\n",
    "print('\\nR-squared simple model:')\n",
    "print(regr1.score(X_train, Y_train))"
   ]
  },
  {
   "cell_type": "code",
   "execution_count": 51,
   "metadata": {},
   "outputs": [
    {
     "name": "stdout",
     "output_type": "stream",
     "text": [
      "[0.02307768 0.02513276 0.03428225 0.03143228 0.22712648 0.06503543\n",
      " 0.04322482 0.41363699 0.02903609 0.10801522]\n"
     ]
    },
    {
     "name": "stderr",
     "output_type": "stream",
     "text": [
      "/anaconda3/lib/python3.7/site-packages/sklearn/ensemble/forest.py:246: FutureWarning: The default value of n_estimators will change from 10 in version 0.20 to 100 in 0.22.\n",
      "  \"10 in version 0.20 to 100 in 0.22.\", FutureWarning)\n"
     ]
    }
   ],
   "source": [
    "# Random Forest Regression\n",
    "regr = ensemble.RandomForestRegressor()\n",
    "X = df_p\n",
    "Y = df['log_tripcount']\n",
    "regr.fit(X, Y)\n",
    "\n",
    "print(regr.feature_importances_)"
   ]
  },
  {
   "cell_type": "code",
   "execution_count": 52,
   "metadata": {},
   "outputs": [],
   "source": [
    "#Gradient Boost Variable definition\n",
    "y_gb2 = df['log_tripcount'] - 1\n",
    "X_gb2 = df_p.loc[:,:]\n",
    "\n",
    "\n",
    "X_gb2 = df_p\n",
    "\n",
    "# Create training and test sets.\n",
    "offset = int(X.shape[0] * 0.9)\n",
    "\n"
   ]
  },
  {
   "cell_type": "code",
   "execution_count": 53,
   "metadata": {},
   "outputs": [
    {
     "name": "stdout",
     "output_type": "stream",
     "text": [
      "MSE: 0.4855\n"
     ]
    }
   ],
   "source": [
    "# Mean Squared Error of Gradient Boost\n",
    "params = {'n_estimators': 500,\n",
    "          'max_depth': 2}\n",
    "\n",
    "\n",
    "clf = ensemble.GradientBoostingRegressor(**params)\n",
    "\n",
    "clf.fit(X_train, Y_train)\n",
    "mse = mean_squared_error(y_test, clf.predict(X_test))\n",
    "print(\"MSE: %.4f\" % mse)\n"
   ]
  },
  {
   "cell_type": "code",
   "execution_count": 54,
   "metadata": {},
   "outputs": [
    {
     "data": {
      "text/plain": [
       "GradientBoostingRegressor(alpha=0.9, criterion='friedman_mse', init=None,\n",
       "             learning_rate=0.01, loss='ls', max_depth=4, max_features=None,\n",
       "             max_leaf_nodes=None, min_impurity_decrease=0.0,\n",
       "             min_impurity_split=None, min_samples_leaf=1,\n",
       "             min_samples_split=2, min_weight_fraction_leaf=0.0,\n",
       "             n_estimators=500, n_iter_no_change=None, presort='auto',\n",
       "             random_state=None, subsample=1.0, tol=0.0001,\n",
       "             validation_fraction=0.1, verbose=0, warm_start=False)"
      ]
     },
     "execution_count": 54,
     "metadata": {},
     "output_type": "execute_result"
    }
   ],
   "source": [
    "#Gradient Boost Regression\n",
    "params = {'n_estimators': 500, 'max_depth': 4, 'min_samples_split': 2,\n",
    "          'learning_rate': 0.01, 'loss': 'ls'}\n",
    "model = ensemble.GradientBoostingRegressor(**params)\n",
    "\n",
    "model.fit(X_train, Y_train)"
   ]
  },
  {
   "cell_type": "code",
   "execution_count": 55,
   "metadata": {
    "scrolled": true
   },
   "outputs": [
    {
     "name": "stdout",
     "output_type": "stream",
     "text": [
      "R2 sq:  0.616899545603221\n",
      "Mean squared error: 0.50\n",
      "Test Variance score: 0.62\n"
     ]
    }
   ],
   "source": [
    "model_score = model.score(X_train, Y_train)\n",
    "# Have a look at R sq to give an idea of the fit ,\n",
    "# Explained variance score: 1 is perfect prediction\n",
    "print('R2 sq: ',model_score)\n",
    "y_gradient_pred = model.predict(X_test)\n",
    "\n",
    "# The mean squared error\n",
    "print(\"Mean squared error: %.2f\"% mean_squared_error(y_test, y_gradient_pred))\n",
    "# Explained variance score: 1 is perfect prediction\n",
    "print('Test Variance score: %.2f' % r2_score(y_test, y_gradient_pred))"
   ]
  },
  {
   "cell_type": "code",
   "execution_count": 56,
   "metadata": {},
   "outputs": [
    {
     "data": {
      "image/png": "[encoded data removed]",
      "text/plain": [
       "<Figure size 432x288 with 1 Axes>"
      ]
     },
     "metadata": {
      "needs_background": "light"
     },
     "output_type": "display_data"
    }
   ],
   "source": [
    "fig, ax = plt.subplots()\n",
    "ax.scatter(y_test, y_gradient_pred, edgecolors=(0, 0, 0))\n",
    "ax.plot([y_test.min(), y_test.max()], [y_test.min(), y_test.max()], 'k--', lw=4)\n",
    "ax.set_xlabel('Actual')\n",
    "ax.set_ylabel('Predicted')\n",
    "ax.set_title(\"Gradient Boost Regression vs Predicted\")\n",
    "plt.show()"
   ]
  },
  {
   "cell_type": "code",
   "execution_count": 57,
   "metadata": {},
   "outputs": [
    {
     "data": {
      "text/plain": [
       "Text(0, 0.5, 'Deviance')"
      ]
     },
     "execution_count": 57,
     "metadata": {},
     "output_type": "execute_result"
    },
    {
     "data": {
      "image/png": "[encoded data removed]",
      "text/plain": [
       "<Figure size 864x432 with 1 Axes>"
      ]
     },
     "metadata": {
      "needs_background": "light"
     },
     "output_type": "display_data"
    }
   ],
   "source": [
    "test_score = np.zeros((params['n_estimators'],), dtype=np.float64)\n",
    "\n",
    "for i, y_pred in enumerate(clf.staged_predict(X_test)):\n",
    "    test_score[i] = clf.loss_(y_test, y_pred)\n",
    "\n",
    "plt.figure(figsize=(12, 6))\n",
    "plt.subplot(1, 2, 1)\n",
    "plt.title('Deviance')\n",
    "plt.plot(np.arange(params['n_estimators']) + 1, clf.train_score_, 'b-',\n",
    "         label='Training Set Deviance')\n",
    "plt.plot(np.arange(params['n_estimators']) + 1, test_score, 'r-',\n",
    "         label='Test Set Deviance')\n",
    "plt.legend(loc='upper right')\n",
    "plt.xlabel('Boosting Iterations')\n",
    "plt.ylabel('Deviance')"
   ]
  },
  {
   "cell_type": "code",
   "execution_count": 58,
   "metadata": {},
   "outputs": [
    {
     "name": "stdout",
     "output_type": "stream",
     "text": [
      "R-squared regression: 0.46817270419122187\n",
      "R-squared PLSR: 0.46817270419122187\n"
     ]
    },
    {
     "data": {
      "image/png": "[encoded data removed]",
      "text/plain": [
       "<Figure size 432x288 with 1 Axes>"
      ]
     },
     "metadata": {
      "needs_background": "light"
     },
     "output_type": "display_data"
    }
   ],
   "source": [
    "regr = linear_model.LinearRegression()\n",
    "regr.fit(X, y)\n",
    "\n",
    "Y_lr_pred = regr.predict(X_test)\n",
    "print('R-squared regression:', regr.score(X, y))\n",
    "\n",
    "\n",
    "pls1 = PLSRegression(n_components=10)\n",
    "\n",
    "\n",
    "pls1.fit(X, y)\n",
    "\n",
    "\n",
    "Y_PLS_pred = pls1.predict(X_test)\n",
    "print('R-squared PLSR:', pls1.score(X, y))\n",
    "\n",
    "\n",
    "plt.scatter(y_test,Y_lr_pred) \n",
    "plt.xlabel('actual by features')\n",
    "plt.ylabel('Predicted by 10 features')\n",
    "plt.title('Comparing LR and PLSR predictions')\n",
    "plt.show()"
   ]
  },
  {
   "cell_type": "code",
   "execution_count": 59,
   "metadata": {
    "scrolled": true
   },
   "outputs": [
    {
     "data": {
      "text/plain": [
       "0.6887318628779904"
      ]
     },
     "execution_count": 59,
     "metadata": {},
     "output_type": "execute_result"
    }
   ],
   "source": [
    "lr.fit(X_train,Y_train)\n",
    "y_lr_pred=lr.predict(X_test)\n",
    "lr.score(X_test,y_lr_pred)\n",
    "mean_squared_error(y_test,y_lr_pred)"
   ]
  },
  {
   "cell_type": "code",
   "execution_count": 60,
   "metadata": {},
   "outputs": [
    {
     "data": {
      "text/html": [
       "<div>\n",
       "<style scoped>\n",
       "    .dataframe tbody tr th:only-of-type {\n",
       "        vertical-align: middle;\n",
       "    }\n",
       "\n",
       "    .dataframe tbody tr th {\n",
       "        vertical-align: top;\n",
       "    }\n",
       "\n",
       "    .dataframe thead th {\n",
       "        text-align: right;\n",
       "    }\n",
       "</style>\n",
       "<table border=\"1\" class=\"dataframe\">\n",
       "  <thead>\n",
       "    <tr style=\"text-align: right;\">\n",
       "      <th></th>\n",
       "      <th>CensusTract</th>\n",
       "      <th>County</th>\n",
       "      <th>Borough</th>\n",
       "      <th>TotalPop</th>\n",
       "      <th>Men</th>\n",
       "      <th>Women</th>\n",
       "      <th>Hispanic</th>\n",
       "      <th>White</th>\n",
       "      <th>Black</th>\n",
       "      <th>Native</th>\n",
       "      <th>...</th>\n",
       "      <th>Walk</th>\n",
       "      <th>OtherTransp</th>\n",
       "      <th>WorkAtHome</th>\n",
       "      <th>MeanCommute</th>\n",
       "      <th>Employed</th>\n",
       "      <th>PrivateWork</th>\n",
       "      <th>PublicWork</th>\n",
       "      <th>SelfEmployed</th>\n",
       "      <th>FamilyWork</th>\n",
       "      <th>Unemployment</th>\n",
       "    </tr>\n",
       "  </thead>\n",
       "  <tbody>\n",
       "    <tr>\n",
       "      <th>0</th>\n",
       "      <td>36005000100</td>\n",
       "      <td>Bronx</td>\n",
       "      <td>Bronx</td>\n",
       "      <td>7703</td>\n",
       "      <td>7133</td>\n",
       "      <td>570</td>\n",
       "      <td>29.9</td>\n",
       "      <td>6.1</td>\n",
       "      <td>60.9</td>\n",
       "      <td>0.2</td>\n",
       "      <td>...</td>\n",
       "      <td>NaN</td>\n",
       "      <td>NaN</td>\n",
       "      <td>NaN</td>\n",
       "      <td>NaN</td>\n",
       "      <td>0</td>\n",
       "      <td>NaN</td>\n",
       "      <td>NaN</td>\n",
       "      <td>NaN</td>\n",
       "      <td>NaN</td>\n",
       "      <td>NaN</td>\n",
       "    </tr>\n",
       "    <tr>\n",
       "      <th>1</th>\n",
       "      <td>36005000200</td>\n",
       "      <td>Bronx</td>\n",
       "      <td>Bronx</td>\n",
       "      <td>5403</td>\n",
       "      <td>2659</td>\n",
       "      <td>2744</td>\n",
       "      <td>75.8</td>\n",
       "      <td>2.3</td>\n",
       "      <td>16.0</td>\n",
       "      <td>0.0</td>\n",
       "      <td>...</td>\n",
       "      <td>2.9</td>\n",
       "      <td>0.0</td>\n",
       "      <td>0.0</td>\n",
       "      <td>43.0</td>\n",
       "      <td>2308</td>\n",
       "      <td>80.8</td>\n",
       "      <td>16.2</td>\n",
       "      <td>2.9</td>\n",
       "      <td>0.0</td>\n",
       "      <td>7.7</td>\n",
       "    </tr>\n",
       "    <tr>\n",
       "      <th>2</th>\n",
       "      <td>36005000400</td>\n",
       "      <td>Bronx</td>\n",
       "      <td>Bronx</td>\n",
       "      <td>5915</td>\n",
       "      <td>2896</td>\n",
       "      <td>3019</td>\n",
       "      <td>62.7</td>\n",
       "      <td>3.6</td>\n",
       "      <td>30.7</td>\n",
       "      <td>0.0</td>\n",
       "      <td>...</td>\n",
       "      <td>1.4</td>\n",
       "      <td>0.5</td>\n",
       "      <td>2.1</td>\n",
       "      <td>45.0</td>\n",
       "      <td>2675</td>\n",
       "      <td>71.7</td>\n",
       "      <td>25.3</td>\n",
       "      <td>2.5</td>\n",
       "      <td>0.6</td>\n",
       "      <td>9.5</td>\n",
       "    </tr>\n",
       "    <tr>\n",
       "      <th>3</th>\n",
       "      <td>36005001600</td>\n",
       "      <td>Bronx</td>\n",
       "      <td>Bronx</td>\n",
       "      <td>5879</td>\n",
       "      <td>2558</td>\n",
       "      <td>3321</td>\n",
       "      <td>65.1</td>\n",
       "      <td>1.6</td>\n",
       "      <td>32.4</td>\n",
       "      <td>0.0</td>\n",
       "      <td>...</td>\n",
       "      <td>8.6</td>\n",
       "      <td>1.6</td>\n",
       "      <td>1.7</td>\n",
       "      <td>38.8</td>\n",
       "      <td>2120</td>\n",
       "      <td>75.0</td>\n",
       "      <td>21.3</td>\n",
       "      <td>3.8</td>\n",
       "      <td>0.0</td>\n",
       "      <td>8.7</td>\n",
       "    </tr>\n",
       "    <tr>\n",
       "      <th>4</th>\n",
       "      <td>36005001900</td>\n",
       "      <td>Bronx</td>\n",
       "      <td>Bronx</td>\n",
       "      <td>2591</td>\n",
       "      <td>1206</td>\n",
       "      <td>1385</td>\n",
       "      <td>55.4</td>\n",
       "      <td>9.0</td>\n",
       "      <td>29.0</td>\n",
       "      <td>0.0</td>\n",
       "      <td>...</td>\n",
       "      <td>3.0</td>\n",
       "      <td>2.4</td>\n",
       "      <td>6.2</td>\n",
       "      <td>45.4</td>\n",
       "      <td>1083</td>\n",
       "      <td>76.8</td>\n",
       "      <td>15.5</td>\n",
       "      <td>7.7</td>\n",
       "      <td>0.0</td>\n",
       "      <td>19.2</td>\n",
       "    </tr>\n",
       "  </tbody>\n",
       "</table>\n",
       "<p>5 rows × 36 columns</p>\n",
       "</div>"
      ],
      "text/plain": [
       "   CensusTract County Borough  TotalPop   Men  Women  Hispanic  White  Black  \\\n",
       "0  36005000100  Bronx   Bronx      7703  7133    570      29.9    6.1   60.9   \n",
       "1  36005000200  Bronx   Bronx      5403  2659   2744      75.8    2.3   16.0   \n",
       "2  36005000400  Bronx   Bronx      5915  2896   3019      62.7    3.6   30.7   \n",
       "3  36005001600  Bronx   Bronx      5879  2558   3321      65.1    1.6   32.4   \n",
       "4  36005001900  Bronx   Bronx      2591  1206   1385      55.4    9.0   29.0   \n",
       "\n",
       "   Native  ...  Walk  OtherTransp  WorkAtHome  MeanCommute  Employed  \\\n",
       "0     0.2  ...   NaN          NaN         NaN          NaN         0   \n",
       "1     0.0  ...   2.9          0.0         0.0         43.0      2308   \n",
       "2     0.0  ...   1.4          0.5         2.1         45.0      2675   \n",
       "3     0.0  ...   8.6          1.6         1.7         38.8      2120   \n",
       "4     0.0  ...   3.0          2.4         6.2         45.4      1083   \n",
       "\n",
       "   PrivateWork  PublicWork  SelfEmployed  FamilyWork  Unemployment  \n",
       "0          NaN         NaN           NaN         NaN           NaN  \n",
       "1         80.8        16.2           2.9         0.0           7.7  \n",
       "2         71.7        25.3           2.5         0.6           9.5  \n",
       "3         75.0        21.3           3.8         0.0           8.7  \n",
       "4         76.8        15.5           7.7         0.0          19.2  \n",
       "\n",
       "[5 rows x 36 columns]"
      ]
     },
     "execution_count": 60,
     "metadata": {},
     "output_type": "execute_result"
    }
   ],
   "source": [
    "data_ny=pd.read_csv('nyc_census_tracts.csv',keep_default_na=False, na_values=[\"\"])\n",
    "data_ny.head()"
   ]
  },
  {
   "cell_type": "code",
   "execution_count": 61,
   "metadata": {},
   "outputs": [
    {
     "data": {
      "text/html": [
       "<div>\n",
       "<style scoped>\n",
       "    .dataframe tbody tr th:only-of-type {\n",
       "        vertical-align: middle;\n",
       "    }\n",
       "\n",
       "    .dataframe tbody tr th {\n",
       "        vertical-align: top;\n",
       "    }\n",
       "\n",
       "    .dataframe thead th {\n",
       "        text-align: right;\n",
       "    }\n",
       "</style>\n",
       "<table border=\"1\" class=\"dataframe\">\n",
       "  <thead>\n",
       "    <tr style=\"text-align: right;\">\n",
       "      <th></th>\n",
       "      <th>Latitude</th>\n",
       "      <th>Longitude</th>\n",
       "      <th>BlockCode</th>\n",
       "      <th>County</th>\n",
       "      <th>State</th>\n",
       "    </tr>\n",
       "  </thead>\n",
       "  <tbody>\n",
       "    <tr>\n",
       "      <th>0</th>\n",
       "      <td>40.48</td>\n",
       "      <td>-74.280000</td>\n",
       "      <td>340230076002012</td>\n",
       "      <td>Middlesex</td>\n",
       "      <td>NJ</td>\n",
       "    </tr>\n",
       "    <tr>\n",
       "      <th>1</th>\n",
       "      <td>40.48</td>\n",
       "      <td>-74.276834</td>\n",
       "      <td>340230076005000</td>\n",
       "      <td>Middlesex</td>\n",
       "      <td>NJ</td>\n",
       "    </tr>\n",
       "    <tr>\n",
       "      <th>2</th>\n",
       "      <td>40.48</td>\n",
       "      <td>-74.273668</td>\n",
       "      <td>340230076003018</td>\n",
       "      <td>Middlesex</td>\n",
       "      <td>NJ</td>\n",
       "    </tr>\n",
       "    <tr>\n",
       "      <th>3</th>\n",
       "      <td>40.48</td>\n",
       "      <td>-74.270503</td>\n",
       "      <td>340230076003004</td>\n",
       "      <td>Middlesex</td>\n",
       "      <td>NJ</td>\n",
       "    </tr>\n",
       "    <tr>\n",
       "      <th>4</th>\n",
       "      <td>40.48</td>\n",
       "      <td>-74.267337</td>\n",
       "      <td>340230074021000</td>\n",
       "      <td>Middlesex</td>\n",
       "      <td>NJ</td>\n",
       "    </tr>\n",
       "  </tbody>\n",
       "</table>\n",
       "</div>"
      ],
      "text/plain": [
       "   Latitude  Longitude        BlockCode     County State\n",
       "0     40.48 -74.280000  340230076002012  Middlesex    NJ\n",
       "1     40.48 -74.276834  340230076005000  Middlesex    NJ\n",
       "2     40.48 -74.273668  340230076003018  Middlesex    NJ\n",
       "3     40.48 -74.270503  340230076003004  Middlesex    NJ\n",
       "4     40.48 -74.267337  340230074021000  Middlesex    NJ"
      ]
     },
     "execution_count": 61,
     "metadata": {},
     "output_type": "execute_result"
    }
   ],
   "source": [
    "data_census=pd.read_csv('census_block_loc.csv',keep_default_na=False, na_values=[\"\"])\n",
    "data_census.head()"
   ]
  },
  {
   "cell_type": "code",
   "execution_count": 62,
   "metadata": {},
   "outputs": [],
   "source": [
    "data_census['BlockCode_11'] = data_census['BlockCode'].apply(lambda x: int(str(x)[0:11]))"
   ]
  },
  {
   "cell_type": "code",
   "execution_count": 63,
   "metadata": {
    "scrolled": true
   },
   "outputs": [
    {
     "data": {
      "text/html": [
       "<div>\n",
       "<style scoped>\n",
       "    .dataframe tbody tr th:only-of-type {\n",
       "        vertical-align: middle;\n",
       "    }\n",
       "\n",
       "    .dataframe tbody tr th {\n",
       "        vertical-align: top;\n",
       "    }\n",
       "\n",
       "    .dataframe thead th {\n",
       "        text-align: right;\n",
       "    }\n",
       "</style>\n",
       "<table border=\"1\" class=\"dataframe\">\n",
       "  <thead>\n",
       "    <tr style=\"text-align: right;\">\n",
       "      <th></th>\n",
       "      <th>CensusTract</th>\n",
       "      <th>County_x</th>\n",
       "      <th>Borough</th>\n",
       "      <th>TotalPop</th>\n",
       "      <th>Men</th>\n",
       "      <th>Women</th>\n",
       "      <th>Hispanic</th>\n",
       "      <th>White</th>\n",
       "      <th>Black</th>\n",
       "      <th>Native</th>\n",
       "      <th>...</th>\n",
       "      <th>PublicWork</th>\n",
       "      <th>SelfEmployed</th>\n",
       "      <th>FamilyWork</th>\n",
       "      <th>Unemployment</th>\n",
       "      <th>Latitude</th>\n",
       "      <th>Longitude</th>\n",
       "      <th>BlockCode</th>\n",
       "      <th>County_y</th>\n",
       "      <th>State</th>\n",
       "      <th>BlockCode_11</th>\n",
       "    </tr>\n",
       "  </thead>\n",
       "  <tbody>\n",
       "    <tr>\n",
       "      <th>0</th>\n",
       "      <td>36005000100</td>\n",
       "      <td>Bronx</td>\n",
       "      <td>Bronx</td>\n",
       "      <td>7703</td>\n",
       "      <td>7133</td>\n",
       "      <td>570</td>\n",
       "      <td>29.9</td>\n",
       "      <td>6.1</td>\n",
       "      <td>60.9</td>\n",
       "      <td>0.2</td>\n",
       "      <td>...</td>\n",
       "      <td>NaN</td>\n",
       "      <td>NaN</td>\n",
       "      <td>NaN</td>\n",
       "      <td>NaN</td>\n",
       "      <td>40.787538</td>\n",
       "      <td>-73.887437</td>\n",
       "      <td>360050001001007</td>\n",
       "      <td>Bronx</td>\n",
       "      <td>NY</td>\n",
       "      <td>36005000100</td>\n",
       "    </tr>\n",
       "    <tr>\n",
       "      <th>1</th>\n",
       "      <td>36005000100</td>\n",
       "      <td>Bronx</td>\n",
       "      <td>Bronx</td>\n",
       "      <td>7703</td>\n",
       "      <td>7133</td>\n",
       "      <td>570</td>\n",
       "      <td>29.9</td>\n",
       "      <td>6.1</td>\n",
       "      <td>60.9</td>\n",
       "      <td>0.2</td>\n",
       "      <td>...</td>\n",
       "      <td>NaN</td>\n",
       "      <td>NaN</td>\n",
       "      <td>NaN</td>\n",
       "      <td>NaN</td>\n",
       "      <td>40.787538</td>\n",
       "      <td>-73.884271</td>\n",
       "      <td>360050001001005</td>\n",
       "      <td>Bronx</td>\n",
       "      <td>NY</td>\n",
       "      <td>36005000100</td>\n",
       "    </tr>\n",
       "    <tr>\n",
       "      <th>2</th>\n",
       "      <td>36005000100</td>\n",
       "      <td>Bronx</td>\n",
       "      <td>Bronx</td>\n",
       "      <td>7703</td>\n",
       "      <td>7133</td>\n",
       "      <td>570</td>\n",
       "      <td>29.9</td>\n",
       "      <td>6.1</td>\n",
       "      <td>60.9</td>\n",
       "      <td>0.2</td>\n",
       "      <td>...</td>\n",
       "      <td>NaN</td>\n",
       "      <td>NaN</td>\n",
       "      <td>NaN</td>\n",
       "      <td>NaN</td>\n",
       "      <td>40.787538</td>\n",
       "      <td>-73.881106</td>\n",
       "      <td>360050001001003</td>\n",
       "      <td>Bronx</td>\n",
       "      <td>NY</td>\n",
       "      <td>36005000100</td>\n",
       "    </tr>\n",
       "    <tr>\n",
       "      <th>3</th>\n",
       "      <td>36005000100</td>\n",
       "      <td>Bronx</td>\n",
       "      <td>Bronx</td>\n",
       "      <td>7703</td>\n",
       "      <td>7133</td>\n",
       "      <td>570</td>\n",
       "      <td>29.9</td>\n",
       "      <td>6.1</td>\n",
       "      <td>60.9</td>\n",
       "      <td>0.2</td>\n",
       "      <td>...</td>\n",
       "      <td>NaN</td>\n",
       "      <td>NaN</td>\n",
       "      <td>NaN</td>\n",
       "      <td>NaN</td>\n",
       "      <td>40.787538</td>\n",
       "      <td>-73.877940</td>\n",
       "      <td>360050001001003</td>\n",
       "      <td>Bronx</td>\n",
       "      <td>NY</td>\n",
       "      <td>36005000100</td>\n",
       "    </tr>\n",
       "    <tr>\n",
       "      <th>4</th>\n",
       "      <td>36005000100</td>\n",
       "      <td>Bronx</td>\n",
       "      <td>Bronx</td>\n",
       "      <td>7703</td>\n",
       "      <td>7133</td>\n",
       "      <td>570</td>\n",
       "      <td>29.9</td>\n",
       "      <td>6.1</td>\n",
       "      <td>60.9</td>\n",
       "      <td>0.2</td>\n",
       "      <td>...</td>\n",
       "      <td>NaN</td>\n",
       "      <td>NaN</td>\n",
       "      <td>NaN</td>\n",
       "      <td>NaN</td>\n",
       "      <td>40.787538</td>\n",
       "      <td>-73.874774</td>\n",
       "      <td>360050001001006</td>\n",
       "      <td>Bronx</td>\n",
       "      <td>NY</td>\n",
       "      <td>36005000100</td>\n",
       "    </tr>\n",
       "  </tbody>\n",
       "</table>\n",
       "<p>5 rows × 42 columns</p>\n",
       "</div>"
      ],
      "text/plain": [
       "   CensusTract County_x Borough  TotalPop   Men  Women  Hispanic  White  \\\n",
       "0  36005000100    Bronx   Bronx      7703  7133    570      29.9    6.1   \n",
       "1  36005000100    Bronx   Bronx      7703  7133    570      29.9    6.1   \n",
       "2  36005000100    Bronx   Bronx      7703  7133    570      29.9    6.1   \n",
       "3  36005000100    Bronx   Bronx      7703  7133    570      29.9    6.1   \n",
       "4  36005000100    Bronx   Bronx      7703  7133    570      29.9    6.1   \n",
       "\n",
       "   Black  Native  ...  PublicWork  SelfEmployed  FamilyWork  Unemployment  \\\n",
       "0   60.9     0.2  ...         NaN           NaN         NaN           NaN   \n",
       "1   60.9     0.2  ...         NaN           NaN         NaN           NaN   \n",
       "2   60.9     0.2  ...         NaN           NaN         NaN           NaN   \n",
       "3   60.9     0.2  ...         NaN           NaN         NaN           NaN   \n",
       "4   60.9     0.2  ...         NaN           NaN         NaN           NaN   \n",
       "\n",
       "    Latitude  Longitude        BlockCode  County_y  State  BlockCode_11  \n",
       "0  40.787538 -73.887437  360050001001007     Bronx     NY   36005000100  \n",
       "1  40.787538 -73.884271  360050001001005     Bronx     NY   36005000100  \n",
       "2  40.787538 -73.881106  360050001001003     Bronx     NY   36005000100  \n",
       "3  40.787538 -73.877940  360050001001003     Bronx     NY   36005000100  \n",
       "4  40.787538 -73.874774  360050001001006     Bronx     NY   36005000100  \n",
       "\n",
       "[5 rows x 42 columns]"
      ]
     },
     "execution_count": 63,
     "metadata": {},
     "output_type": "execute_result"
    }
   ],
   "source": [
    "df_census= pd.merge(left=data_ny,right= data_census, how='inner', on=None, left_on='CensusTract', right_on='BlockCode_11',\n",
    "        left_index=False, right_index=False, sort=True,\n",
    "        suffixes=('_x', '_y'), copy=True, indicator=False,\n",
    "        validate=None)\n",
    "df_census.head()"
   ]
  },
  {
   "cell_type": "code",
   "execution_count": 64,
   "metadata": {},
   "outputs": [],
   "source": [
    "df_clean=df[['borough_distance','TotalPop','Men','Women','Income','Poverty','start_station_id','Drive','Carpool','Walk','OtherTransp',\n",
    "     'WorkAtHome','Employed','Unemployment','PrivateWork','PublicWork','SelfEmployed','FamilyWork','Borough','County_x','Hispanic','Black',\n",
    "            'Asian','White','Office','Construction','Production','Professional','Service','log_tripcount']].dropna (axis=1)\n",
    "\n",
    "df_X=pd.concat([df_clean, pd.get_dummies(df_clean['Borough']),pd.get_dummies(df_clean['County_x'])],axis=1 )\n",
    "\n",
    "\n"
   ]
  },
  {
   "cell_type": "code",
   "execution_count": 65,
   "metadata": {},
   "outputs": [
    {
     "data": {
      "text/plain": [
       "Index(['borough_distance', 'TotalPop', 'Men', 'Women', 'Income', 'Poverty',\n",
       "       'start_station_id', 'Drive', 'Carpool', 'Walk', 'OtherTransp',\n",
       "       'WorkAtHome', 'Employed', 'Unemployment', 'PrivateWork', 'PublicWork',\n",
       "       'SelfEmployed', 'FamilyWork', 'Borough', 'County_x', 'Hispanic',\n",
       "       'Black', 'Asian', 'White', 'Office', 'Construction', 'Production',\n",
       "       'Professional', 'Service', 'log_tripcount', 'Brooklyn', 'Manhattan',\n",
       "       'Queens', 'Kings', 'New York', 'Queens'],\n",
       "      dtype='object')"
      ]
     },
     "execution_count": 65,
     "metadata": {},
     "output_type": "execute_result"
    }
   ],
   "source": [
    "df_X.columns"
   ]
  },
  {
   "cell_type": "code",
   "execution_count": 66,
   "metadata": {},
   "outputs": [],
   "source": [
    "X = df_X\n",
    "\n",
    "Y = df_X['log_tripcount']"
   ]
  },
  {
   "cell_type": "code",
   "execution_count": 67,
   "metadata": {},
   "outputs": [],
   "source": [
    "Y_train = df_X['log_tripcount']\n",
    "X_train = df_X.drop ('Borough', 1).drop('County_x' , 1)"
   ]
  },
  {
   "cell_type": "code",
   "execution_count": 68,
   "metadata": {},
   "outputs": [],
   "source": [
    "Y =df_X.log_tripcount\n",
    "X= df_X.drop ('Borough', 1).drop('County_x' , 1).drop('log_tripcount' , 1)\n",
    "(X_train, X_test, Y_train, Y_test)=train_test_split(X,Y,test_size=0.25)\n",
    "lr=LinearRegression()"
   ]
  },
  {
   "cell_type": "code",
   "execution_count": 69,
   "metadata": {},
   "outputs": [
    {
     "data": {
      "text/plain": [
       "Index(['borough_distance', 'TotalPop', 'Men', 'Women', 'Income', 'Poverty',\n",
       "       'start_station_id', 'Drive', 'Carpool', 'Walk', 'OtherTransp',\n",
       "       'WorkAtHome', 'Employed', 'Unemployment', 'PrivateWork', 'PublicWork',\n",
       "       'SelfEmployed', 'FamilyWork', 'Borough', 'County_x', 'Hispanic',\n",
       "       'Black', 'Asian', 'White', 'Office', 'Construction', 'Production',\n",
       "       'Professional', 'Service', 'log_tripcount', 'Brooklyn', 'Manhattan',\n",
       "       'Queens', 'Kings', 'New York', 'Queens'],\n",
       "      dtype='object')"
      ]
     },
     "execution_count": 69,
     "metadata": {},
     "output_type": "execute_result"
    }
   ],
   "source": [
    "df_X.columns"
   ]
  },
  {
   "cell_type": "code",
   "execution_count": 70,
   "metadata": {},
   "outputs": [],
   "source": [
    "df_predict= df_census[['TotalPop', 'Men', 'Women', 'Income', 'Poverty','Drive', 'Carpool', 'Walk', 'OtherTransp','WorkAtHome', 'Employed', 'Unemployment', 'PrivateWork', 'PublicWork',\n",
    "       'SelfEmployed', 'FamilyWork', 'Borough', 'County_x', 'Hispanic','Black', 'Asian', 'White', 'Office', 'Construction', 'Production',\n",
    "       'Professional', 'Service']].dropna(axis=0)"
   ]
  },
  {
   "cell_type": "code",
   "execution_count": 71,
   "metadata": {},
   "outputs": [
    {
     "data": {
      "text/plain": [
       "Index(['CensusTract', 'County_x', 'Borough', 'TotalPop', 'Men', 'Women',\n",
       "       'Hispanic', 'White', 'Black', 'Native', 'Asian', 'Citizen', 'Income',\n",
       "       'IncomeErr', 'IncomePerCap', 'IncomePerCapErr', 'Poverty',\n",
       "       'ChildPoverty', 'Professional', 'Service', 'Office', 'Construction',\n",
       "       'Production', 'Drive', 'Carpool', 'Transit', 'Walk', 'OtherTransp',\n",
       "       'WorkAtHome', 'MeanCommute', 'Employed', 'PrivateWork', 'PublicWork',\n",
       "       'SelfEmployed', 'FamilyWork', 'Unemployment', 'Latitude', 'Longitude',\n",
       "       'BlockCode', 'County_y', 'State', 'BlockCode_11'],\n",
       "      dtype='object')"
      ]
     },
     "execution_count": 71,
     "metadata": {},
     "output_type": "execute_result"
    }
   ],
   "source": [
    "df_census.columns"
   ]
  },
  {
   "cell_type": "code",
   "execution_count": 72,
   "metadata": {},
   "outputs": [
    {
     "data": {
      "text/plain": [
       "Index(['TotalPop', 'Men', 'Women', 'Income', 'Poverty', 'Drive', 'Carpool',\n",
       "       'Walk', 'OtherTransp', 'WorkAtHome', 'Employed', 'Unemployment',\n",
       "       'PrivateWork', 'PublicWork', 'SelfEmployed', 'FamilyWork', 'Borough',\n",
       "       'County_x', 'Hispanic', 'Black', 'Asian', 'White', 'Office',\n",
       "       'Construction', 'Production', 'Professional', 'Service'],\n",
       "      dtype='object')"
      ]
     },
     "execution_count": 72,
     "metadata": {},
     "output_type": "execute_result"
    }
   ],
   "source": [
    "df_predict.columns"
   ]
  },
  {
   "cell_type": "code",
   "execution_count": 73,
   "metadata": {},
   "outputs": [],
   "source": [
    "#Getting the dummies for the census information to run the prediction models for the Borough and County_x\n",
    "df_p2=pd.concat([df_predict, pd.get_dummies(df_predict['Borough']),pd.get_dummies(df_predict['County_x'])],axis=1 )\n",
    "\n"
   ]
  },
  {
   "cell_type": "code",
   "execution_count": 74,
   "metadata": {},
   "outputs": [
    {
     "data": {
      "text/plain": [
       "Index(['TotalPop', 'Men', 'Women', 'Income', 'Poverty', 'Drive', 'Carpool',\n",
       "       'Walk', 'OtherTransp', 'WorkAtHome', 'Employed', 'Unemployment',\n",
       "       'PrivateWork', 'PublicWork', 'SelfEmployed', 'FamilyWork', 'Borough',\n",
       "       'County_x', 'Hispanic', 'Black', 'Asian', 'White', 'Office',\n",
       "       'Construction', 'Production', 'Professional', 'Service', 'Bronx',\n",
       "       'Brooklyn', 'Manhattan', 'Queens', 'Staten Island', 'Bronx', 'Kings',\n",
       "       'New York', 'Queens', 'Richmond'],\n",
       "      dtype='object')"
      ]
     },
     "execution_count": 74,
     "metadata": {},
     "output_type": "execute_result"
    }
   ],
   "source": [
    "df_p2.columns"
   ]
  },
  {
   "cell_type": "code",
   "execution_count": 75,
   "metadata": {},
   "outputs": [
    {
     "data": {
      "text/plain": [
       "TotalPop           int64\n",
       "Men                int64\n",
       "Women              int64\n",
       "Income           float64\n",
       "Poverty          float64\n",
       "Drive            float64\n",
       "Carpool          float64\n",
       "Walk             float64\n",
       "OtherTransp      float64\n",
       "WorkAtHome       float64\n",
       "Employed           int64\n",
       "Unemployment     float64\n",
       "PrivateWork      float64\n",
       "PublicWork       float64\n",
       "SelfEmployed     float64\n",
       "FamilyWork       float64\n",
       "Borough           object\n",
       "County_x          object\n",
       "Hispanic         float64\n",
       "Black            float64\n",
       "Asian            float64\n",
       "White            float64\n",
       "Office           float64\n",
       "Construction     float64\n",
       "Production       float64\n",
       "Professional     float64\n",
       "Service          float64\n",
       "Bronx              uint8\n",
       "Brooklyn           uint8\n",
       "Manhattan          uint8\n",
       "Queens             uint8\n",
       "Staten Island      uint8\n",
       "Bronx              uint8\n",
       "Kings              uint8\n",
       "New York           uint8\n",
       "Queens             uint8\n",
       "Richmond           uint8\n",
       "dtype: object"
      ]
     },
     "execution_count": 75,
     "metadata": {},
     "output_type": "execute_result"
    }
   ],
   "source": [
    "df_p2.dtypes"
   ]
  },
  {
   "cell_type": "code",
   "execution_count": 76,
   "metadata": {
    "scrolled": true
   },
   "outputs": [
    {
     "data": {
      "text/html": [
       "<div>\n",
       "<style scoped>\n",
       "    .dataframe tbody tr th:only-of-type {\n",
       "        vertical-align: middle;\n",
       "    }\n",
       "\n",
       "    .dataframe tbody tr th {\n",
       "        vertical-align: top;\n",
       "    }\n",
       "\n",
       "    .dataframe thead th {\n",
       "        text-align: right;\n",
       "    }\n",
       "</style>\n",
       "<table border=\"1\" class=\"dataframe\">\n",
       "  <thead>\n",
       "    <tr style=\"text-align: right;\">\n",
       "      <th></th>\n",
       "      <th>TotalPop</th>\n",
       "      <th>Men</th>\n",
       "      <th>Women</th>\n",
       "      <th>Income</th>\n",
       "      <th>Poverty</th>\n",
       "      <th>Drive</th>\n",
       "      <th>Carpool</th>\n",
       "      <th>Walk</th>\n",
       "      <th>OtherTransp</th>\n",
       "      <th>WorkAtHome</th>\n",
       "      <th>...</th>\n",
       "      <th>Bronx</th>\n",
       "      <th>Brooklyn</th>\n",
       "      <th>Manhattan</th>\n",
       "      <th>Queens</th>\n",
       "      <th>Staten Island</th>\n",
       "      <th>Bronx</th>\n",
       "      <th>Kings</th>\n",
       "      <th>New York</th>\n",
       "      <th>Queens</th>\n",
       "      <th>Richmond</th>\n",
       "    </tr>\n",
       "  </thead>\n",
       "  <tbody>\n",
       "    <tr>\n",
       "      <th>39</th>\n",
       "      <td>5403</td>\n",
       "      <td>2659</td>\n",
       "      <td>2744</td>\n",
       "      <td>72034.0</td>\n",
       "      <td>20.0</td>\n",
       "      <td>44.8</td>\n",
       "      <td>13.7</td>\n",
       "      <td>2.9</td>\n",
       "      <td>0.0</td>\n",
       "      <td>0.0</td>\n",
       "      <td>...</td>\n",
       "      <td>1</td>\n",
       "      <td>0</td>\n",
       "      <td>0</td>\n",
       "      <td>0</td>\n",
       "      <td>0</td>\n",
       "      <td>1</td>\n",
       "      <td>0</td>\n",
       "      <td>0</td>\n",
       "      <td>0</td>\n",
       "      <td>0</td>\n",
       "    </tr>\n",
       "    <tr>\n",
       "      <th>40</th>\n",
       "      <td>5403</td>\n",
       "      <td>2659</td>\n",
       "      <td>2744</td>\n",
       "      <td>72034.0</td>\n",
       "      <td>20.0</td>\n",
       "      <td>44.8</td>\n",
       "      <td>13.7</td>\n",
       "      <td>2.9</td>\n",
       "      <td>0.0</td>\n",
       "      <td>0.0</td>\n",
       "      <td>...</td>\n",
       "      <td>1</td>\n",
       "      <td>0</td>\n",
       "      <td>0</td>\n",
       "      <td>0</td>\n",
       "      <td>0</td>\n",
       "      <td>1</td>\n",
       "      <td>0</td>\n",
       "      <td>0</td>\n",
       "      <td>0</td>\n",
       "      <td>0</td>\n",
       "    </tr>\n",
       "    <tr>\n",
       "      <th>41</th>\n",
       "      <td>5403</td>\n",
       "      <td>2659</td>\n",
       "      <td>2744</td>\n",
       "      <td>72034.0</td>\n",
       "      <td>20.0</td>\n",
       "      <td>44.8</td>\n",
       "      <td>13.7</td>\n",
       "      <td>2.9</td>\n",
       "      <td>0.0</td>\n",
       "      <td>0.0</td>\n",
       "      <td>...</td>\n",
       "      <td>1</td>\n",
       "      <td>0</td>\n",
       "      <td>0</td>\n",
       "      <td>0</td>\n",
       "      <td>0</td>\n",
       "      <td>1</td>\n",
       "      <td>0</td>\n",
       "      <td>0</td>\n",
       "      <td>0</td>\n",
       "      <td>0</td>\n",
       "    </tr>\n",
       "    <tr>\n",
       "      <th>42</th>\n",
       "      <td>5403</td>\n",
       "      <td>2659</td>\n",
       "      <td>2744</td>\n",
       "      <td>72034.0</td>\n",
       "      <td>20.0</td>\n",
       "      <td>44.8</td>\n",
       "      <td>13.7</td>\n",
       "      <td>2.9</td>\n",
       "      <td>0.0</td>\n",
       "      <td>0.0</td>\n",
       "      <td>...</td>\n",
       "      <td>1</td>\n",
       "      <td>0</td>\n",
       "      <td>0</td>\n",
       "      <td>0</td>\n",
       "      <td>0</td>\n",
       "      <td>1</td>\n",
       "      <td>0</td>\n",
       "      <td>0</td>\n",
       "      <td>0</td>\n",
       "      <td>0</td>\n",
       "    </tr>\n",
       "    <tr>\n",
       "      <th>43</th>\n",
       "      <td>5403</td>\n",
       "      <td>2659</td>\n",
       "      <td>2744</td>\n",
       "      <td>72034.0</td>\n",
       "      <td>20.0</td>\n",
       "      <td>44.8</td>\n",
       "      <td>13.7</td>\n",
       "      <td>2.9</td>\n",
       "      <td>0.0</td>\n",
       "      <td>0.0</td>\n",
       "      <td>...</td>\n",
       "      <td>1</td>\n",
       "      <td>0</td>\n",
       "      <td>0</td>\n",
       "      <td>0</td>\n",
       "      <td>0</td>\n",
       "      <td>1</td>\n",
       "      <td>0</td>\n",
       "      <td>0</td>\n",
       "      <td>0</td>\n",
       "      <td>0</td>\n",
       "    </tr>\n",
       "  </tbody>\n",
       "</table>\n",
       "<p>5 rows × 37 columns</p>\n",
       "</div>"
      ],
      "text/plain": [
       "    TotalPop   Men  Women   Income  Poverty  Drive  Carpool  Walk  \\\n",
       "39      5403  2659   2744  72034.0     20.0   44.8     13.7   2.9   \n",
       "40      5403  2659   2744  72034.0     20.0   44.8     13.7   2.9   \n",
       "41      5403  2659   2744  72034.0     20.0   44.8     13.7   2.9   \n",
       "42      5403  2659   2744  72034.0     20.0   44.8     13.7   2.9   \n",
       "43      5403  2659   2744  72034.0     20.0   44.8     13.7   2.9   \n",
       "\n",
       "    OtherTransp  WorkAtHome  ...  Bronx  Brooklyn  Manhattan  Queens  \\\n",
       "39          0.0         0.0  ...      1         0          0       0   \n",
       "40          0.0         0.0  ...      1         0          0       0   \n",
       "41          0.0         0.0  ...      1         0          0       0   \n",
       "42          0.0         0.0  ...      1         0          0       0   \n",
       "43          0.0         0.0  ...      1         0          0       0   \n",
       "\n",
       "    Staten Island  Bronx Kings New York  Queens  Richmond  \n",
       "39              0      1     0        0       0         0  \n",
       "40              0      1     0        0       0         0  \n",
       "41              0      1     0        0       0         0  \n",
       "42              0      1     0        0       0         0  \n",
       "43              0      1     0        0       0         0  \n",
       "\n",
       "[5 rows x 37 columns]"
      ]
     },
     "execution_count": 76,
     "metadata": {},
     "output_type": "execute_result"
    }
   ],
   "source": [
    "df_p2.head()"
   ]
  },
  {
   "cell_type": "code",
   "execution_count": 77,
   "metadata": {},
   "outputs": [],
   "source": [
    "#dropping the columns Borough, County_x because we now have the dummy columns for them, and dropping \n",
    "#Staten Island, Richmond as there are no bike share stations there. \n",
    "df_p2= df_p2.drop ('Borough', 1).drop('County_x' , 1).drop('Staten Island',1).drop(\"Richmond\",1)"
   ]
  },
  {
   "cell_type": "code",
   "execution_count": 78,
   "metadata": {},
   "outputs": [
    {
     "name": "stdout",
     "output_type": "stream",
     "text": [
      "[-8911.41977005 -8911.41977005 -8911.41977005 ... -1882.82818446\n",
      " -1882.82818446 -1882.82818446]\n",
      "(11947,)\n"
     ]
    }
   ],
   "source": [
    "lr.fit(X_train,Y_train)\n",
    "y_lr_pred=lr.predict(df_p2)\n",
    "lr.score(df_p2,y_lr_pred)\n",
    "print (y_lr_pred)\n",
    "print(y_lr_pred.shape)"
   ]
  },
  {
   "cell_type": "code",
   "execution_count": 79,
   "metadata": {},
   "outputs": [
    {
     "data": {
      "text/plain": [
       "Text(0.5, 1.0, 'Linear Regression')"
      ]
     },
     "execution_count": 79,
     "metadata": {},
     "output_type": "execute_result"
    },
    {
     "data": {
      "image/png": "[encoded data removed]",
      "text/plain": [
       "<Figure size 432x288 with 1 Axes>"
      ]
     },
     "metadata": {
      "needs_background": "light"
     },
     "output_type": "display_data"
    }
   ],
   "source": [
    "plt.figure\n",
    "pd.DataFrame(y_lr_pred).plot(kind=\"hist\", bins=35)\n",
    "plt.xlabel\n",
    "plt. title ('Linear Regression')"
   ]
  },
  {
   "cell_type": "code",
   "execution_count": 80,
   "metadata": {
    "scrolled": false
   },
   "outputs": [
    {
     "name": "stdout",
     "output_type": "stream",
     "text": [
      "R-squared regression: 0.4910456463578624\n",
      "R-squared PLSR: 0.48806498687104904\n"
     ]
    },
    {
     "data": {
      "image/png": "[encoded data removed]",
      "text/plain": [
       "<Figure size 432x288 with 1 Axes>"
      ]
     },
     "metadata": {
      "needs_background": "light"
     },
     "output_type": "display_data"
    }
   ],
   "source": [
    "regr = linear_model.LinearRegression()\n",
    "regr.fit(X, y)\n",
    "\n",
    "Y_lr_pred = regr.predict(df_p2)\n",
    "print('R-squared regression:', regr.score(X, y))\n",
    "\n",
    "\n",
    "pls1 = PLSRegression(n_components=10)\n",
    "\n",
    "\n",
    "pls1.fit(X, y)\n",
    "\n",
    "\n",
    "Y_PLS_pred = pls1.predict(df_p2)\n",
    "print('R-squared PLSR:', pls1.score(X, y))\n",
    "\n",
    "\n",
    "pd.DataFrame(Y_PLS_pred).plot(kind=\"hist\", bins=35)\n",
    "plt.xlabel\n",
    "plt.ylabel\n",
    "plt.title('Comparing LR and PLSR predictions')\n",
    "plt.show()"
   ]
  },
  {
   "cell_type": "markdown",
   "metadata": {},
   "source": [
    "Shows a 49% accuracy in the prediction of the next station. "
   ]
  },
  {
   "cell_type": "code",
   "execution_count": 81,
   "metadata": {},
   "outputs": [],
   "source": [
    "df_p10= df_census[['TotalPop', 'Women', 'Income', 'Poverty', 'Employed', 'Drive',\n",
    "       'WorkAtHome', 'MeanCommute', 'Citizen', 'IncomePerCap']].dropna(axis=0)"
   ]
  },
  {
   "cell_type": "code",
   "execution_count": 82,
   "metadata": {},
   "outputs": [
    {
     "data": {
      "text/plain": [
       "GradientBoostingRegressor(alpha=0.9, criterion='friedman_mse', init=None,\n",
       "             learning_rate=0.01, loss='ls', max_depth=4, max_features=None,\n",
       "             max_leaf_nodes=None, min_impurity_decrease=0.0,\n",
       "             min_impurity_split=None, min_samples_leaf=1,\n",
       "             min_samples_split=2, min_weight_fraction_leaf=0.0,\n",
       "             n_estimators=500, n_iter_no_change=None, presort='auto',\n",
       "             random_state=None, subsample=1.0, tol=0.0001,\n",
       "             validation_fraction=0.1, verbose=0, warm_start=False)"
      ]
     },
     "execution_count": 82,
     "metadata": {},
     "output_type": "execute_result"
    }
   ],
   "source": [
    "#Gradient Boost Regression\n",
    "params = {'n_estimators': 500, 'max_depth': 4, 'min_samples_split': 2,\n",
    "          'learning_rate': 0.01, 'loss': 'ls'}\n",
    "model = ensemble.GradientBoostingRegressor(**params)\n",
    "\n",
    "model.fit(X_train, Y_train)"
   ]
  },
  {
   "cell_type": "code",
   "execution_count": 83,
   "metadata": {},
   "outputs": [],
   "source": [
    "#Using gradient boost regression to predict the next station\n",
    "y_gradient_pred = model.predict(df_p2)\n"
   ]
  },
  {
   "cell_type": "code",
   "execution_count": 84,
   "metadata": {},
   "outputs": [
    {
     "data": {
      "image/png": "[encoded data removed]",
      "text/plain": [
       "<Figure size 432x288 with 1 Axes>"
      ]
     },
     "metadata": {
      "needs_background": "light"
     },
     "output_type": "display_data"
    }
   ],
   "source": [
    "\n",
    "pd.DataFrame(y_gradient_pred).plot(kind=\"hist\", bins=35)\n",
    "plt.title('Gradient Regression Prediction')\n",
    "plt.show()"
   ]
  },
  {
   "cell_type": "markdown",
   "metadata": {},
   "source": [
    "E raised to 6th or 7.5 rides/ month the tail shows the potential for growth because there aren't as many stations out there. "
   ]
  },
  {
   "cell_type": "code",
   "execution_count": 85,
   "metadata": {},
   "outputs": [
    {
     "data": {
      "text/plain": [
       "Index(['TotalPop', 'Men', 'Women', 'Income', 'Poverty', 'Drive', 'Carpool',\n",
       "       'Walk', 'OtherTransp', 'WorkAtHome', 'Employed', 'Unemployment',\n",
       "       'PrivateWork', 'PublicWork', 'SelfEmployed', 'FamilyWork', 'Hispanic',\n",
       "       'Black', 'Asian', 'White', 'Office', 'Construction', 'Production',\n",
       "       'Professional', 'Service', 'Bronx', 'Brooklyn', 'Manhattan', 'Queens',\n",
       "       'Bronx', 'Kings', 'New York', 'Queens'],\n",
       "      dtype='object')"
      ]
     },
     "execution_count": 85,
     "metadata": {},
     "output_type": "execute_result"
    }
   ],
   "source": [
    "df_p2.columns"
   ]
  },
  {
   "cell_type": "code",
   "execution_count": 86,
   "metadata": {
    "scrolled": true
   },
   "outputs": [
    {
     "data": {
      "text/plain": [
       "Index(['CensusTract', 'County_x', 'Borough', 'TotalPop', 'Men', 'Women',\n",
       "       'Hispanic', 'White', 'Black', 'Native', 'Asian', 'Citizen', 'Income',\n",
       "       'IncomeErr', 'IncomePerCap', 'IncomePerCapErr', 'Poverty',\n",
       "       'ChildPoverty', 'Professional', 'Service', 'Office', 'Construction',\n",
       "       'Production', 'Drive', 'Carpool', 'Transit', 'Walk', 'OtherTransp',\n",
       "       'WorkAtHome', 'MeanCommute', 'Employed', 'PrivateWork', 'PublicWork',\n",
       "       'SelfEmployed', 'FamilyWork', 'Unemployment', 'Latitude', 'Longitude',\n",
       "       'BlockCode', 'County_y', 'State', 'BlockCode_11'],\n",
       "      dtype='object')"
      ]
     },
     "execution_count": 86,
     "metadata": {},
     "output_type": "execute_result"
    }
   ],
   "source": [
    "df_census.columns"
   ]
  },
  {
   "cell_type": "code",
   "execution_count": 87,
   "metadata": {},
   "outputs": [],
   "source": [
    "df_censusna= df_census[['TotalPop', 'Men', 'Women', 'Income', 'Poverty','Drive', 'Carpool', 'Walk', 'OtherTransp','WorkAtHome', 'Employed', 'Unemployment', 'PrivateWork', 'PublicWork',\n",
    "       'SelfEmployed', 'FamilyWork', 'Borough', 'County_x', 'Hispanic','Black', 'Asian', 'White', 'Office', 'Construction', 'Production',\n",
    "       'Professional', 'Service', 'CensusTract','Latitude', 'Longitude']].dropna(axis=0)"
   ]
  },
  {
   "cell_type": "code",
   "execution_count": 88,
   "metadata": {},
   "outputs": [
    {
     "name": "stdout",
     "output_type": "stream",
     "text": [
      "(11947, 30)\n"
     ]
    }
   ],
   "source": [
    "print(df_censusna.shape)"
   ]
  },
  {
   "cell_type": "code",
   "execution_count": 89,
   "metadata": {},
   "outputs": [
    {
     "name": "stdout",
     "output_type": "stream",
     "text": [
      "(11947, 33)\n"
     ]
    }
   ],
   "source": [
    "print(df_p2.shape)"
   ]
  },
  {
   "cell_type": "code",
   "execution_count": 90,
   "metadata": {},
   "outputs": [],
   "source": [
    "#adding the new prediction column to the census data frame so that we can now match up \n",
    "# the prediction with the appropriate latitude/longitude and Borough name. \n",
    "df_censusna=pd.concat([df_censusna,pd.Series(y_gradient_pred,index=df_p2.index)],axis=1)"
   ]
  },
  {
   "cell_type": "code",
   "execution_count": 91,
   "metadata": {},
   "outputs": [
    {
     "data": {
      "text/html": [
       "<div>\n",
       "<style scoped>\n",
       "    .dataframe tbody tr th:only-of-type {\n",
       "        vertical-align: middle;\n",
       "    }\n",
       "\n",
       "    .dataframe tbody tr th {\n",
       "        vertical-align: top;\n",
       "    }\n",
       "\n",
       "    .dataframe thead th {\n",
       "        text-align: right;\n",
       "    }\n",
       "</style>\n",
       "<table border=\"1\" class=\"dataframe\">\n",
       "  <thead>\n",
       "    <tr style=\"text-align: right;\">\n",
       "      <th></th>\n",
       "      <th>TotalPop</th>\n",
       "      <th>Men</th>\n",
       "      <th>Women</th>\n",
       "      <th>Income</th>\n",
       "      <th>Poverty</th>\n",
       "      <th>Drive</th>\n",
       "      <th>Carpool</th>\n",
       "      <th>Walk</th>\n",
       "      <th>OtherTransp</th>\n",
       "      <th>WorkAtHome</th>\n",
       "      <th>...</th>\n",
       "      <th>White</th>\n",
       "      <th>Office</th>\n",
       "      <th>Construction</th>\n",
       "      <th>Production</th>\n",
       "      <th>Professional</th>\n",
       "      <th>Service</th>\n",
       "      <th>CensusTract</th>\n",
       "      <th>Latitude</th>\n",
       "      <th>Longitude</th>\n",
       "      <th>0</th>\n",
       "    </tr>\n",
       "  </thead>\n",
       "  <tbody>\n",
       "    <tr>\n",
       "      <th>39</th>\n",
       "      <td>5403</td>\n",
       "      <td>2659</td>\n",
       "      <td>2744</td>\n",
       "      <td>72034.0</td>\n",
       "      <td>20.0</td>\n",
       "      <td>44.8</td>\n",
       "      <td>13.7</td>\n",
       "      <td>2.9</td>\n",
       "      <td>0.0</td>\n",
       "      <td>0.0</td>\n",
       "      <td>...</td>\n",
       "      <td>2.3</td>\n",
       "      <td>23.9</td>\n",
       "      <td>8.0</td>\n",
       "      <td>22.3</td>\n",
       "      <td>28.7</td>\n",
       "      <td>17.1</td>\n",
       "      <td>36005000200</td>\n",
       "      <td>40.798844</td>\n",
       "      <td>-73.862111</td>\n",
       "      <td>6.597926</td>\n",
       "    </tr>\n",
       "    <tr>\n",
       "      <th>40</th>\n",
       "      <td>5403</td>\n",
       "      <td>2659</td>\n",
       "      <td>2744</td>\n",
       "      <td>72034.0</td>\n",
       "      <td>20.0</td>\n",
       "      <td>44.8</td>\n",
       "      <td>13.7</td>\n",
       "      <td>2.9</td>\n",
       "      <td>0.0</td>\n",
       "      <td>0.0</td>\n",
       "      <td>...</td>\n",
       "      <td>2.3</td>\n",
       "      <td>23.9</td>\n",
       "      <td>8.0</td>\n",
       "      <td>22.3</td>\n",
       "      <td>28.7</td>\n",
       "      <td>17.1</td>\n",
       "      <td>36005000200</td>\n",
       "      <td>40.798844</td>\n",
       "      <td>-73.858945</td>\n",
       "      <td>6.597926</td>\n",
       "    </tr>\n",
       "    <tr>\n",
       "      <th>41</th>\n",
       "      <td>5403</td>\n",
       "      <td>2659</td>\n",
       "      <td>2744</td>\n",
       "      <td>72034.0</td>\n",
       "      <td>20.0</td>\n",
       "      <td>44.8</td>\n",
       "      <td>13.7</td>\n",
       "      <td>2.9</td>\n",
       "      <td>0.0</td>\n",
       "      <td>0.0</td>\n",
       "      <td>...</td>\n",
       "      <td>2.3</td>\n",
       "      <td>23.9</td>\n",
       "      <td>8.0</td>\n",
       "      <td>22.3</td>\n",
       "      <td>28.7</td>\n",
       "      <td>17.1</td>\n",
       "      <td>36005000200</td>\n",
       "      <td>40.801106</td>\n",
       "      <td>-73.862111</td>\n",
       "      <td>6.597926</td>\n",
       "    </tr>\n",
       "    <tr>\n",
       "      <th>42</th>\n",
       "      <td>5403</td>\n",
       "      <td>2659</td>\n",
       "      <td>2744</td>\n",
       "      <td>72034.0</td>\n",
       "      <td>20.0</td>\n",
       "      <td>44.8</td>\n",
       "      <td>13.7</td>\n",
       "      <td>2.9</td>\n",
       "      <td>0.0</td>\n",
       "      <td>0.0</td>\n",
       "      <td>...</td>\n",
       "      <td>2.3</td>\n",
       "      <td>23.9</td>\n",
       "      <td>8.0</td>\n",
       "      <td>22.3</td>\n",
       "      <td>28.7</td>\n",
       "      <td>17.1</td>\n",
       "      <td>36005000200</td>\n",
       "      <td>40.801106</td>\n",
       "      <td>-73.858945</td>\n",
       "      <td>6.597926</td>\n",
       "    </tr>\n",
       "    <tr>\n",
       "      <th>43</th>\n",
       "      <td>5403</td>\n",
       "      <td>2659</td>\n",
       "      <td>2744</td>\n",
       "      <td>72034.0</td>\n",
       "      <td>20.0</td>\n",
       "      <td>44.8</td>\n",
       "      <td>13.7</td>\n",
       "      <td>2.9</td>\n",
       "      <td>0.0</td>\n",
       "      <td>0.0</td>\n",
       "      <td>...</td>\n",
       "      <td>2.3</td>\n",
       "      <td>23.9</td>\n",
       "      <td>8.0</td>\n",
       "      <td>22.3</td>\n",
       "      <td>28.7</td>\n",
       "      <td>17.1</td>\n",
       "      <td>36005000200</td>\n",
       "      <td>40.801106</td>\n",
       "      <td>-73.855779</td>\n",
       "      <td>6.597926</td>\n",
       "    </tr>\n",
       "  </tbody>\n",
       "</table>\n",
       "<p>5 rows × 31 columns</p>\n",
       "</div>"
      ],
      "text/plain": [
       "    TotalPop   Men  Women   Income  Poverty  Drive  Carpool  Walk  \\\n",
       "39      5403  2659   2744  72034.0     20.0   44.8     13.7   2.9   \n",
       "40      5403  2659   2744  72034.0     20.0   44.8     13.7   2.9   \n",
       "41      5403  2659   2744  72034.0     20.0   44.8     13.7   2.9   \n",
       "42      5403  2659   2744  72034.0     20.0   44.8     13.7   2.9   \n",
       "43      5403  2659   2744  72034.0     20.0   44.8     13.7   2.9   \n",
       "\n",
       "    OtherTransp  WorkAtHome  ...  White  Office  Construction  Production  \\\n",
       "39          0.0         0.0  ...    2.3    23.9           8.0        22.3   \n",
       "40          0.0         0.0  ...    2.3    23.9           8.0        22.3   \n",
       "41          0.0         0.0  ...    2.3    23.9           8.0        22.3   \n",
       "42          0.0         0.0  ...    2.3    23.9           8.0        22.3   \n",
       "43          0.0         0.0  ...    2.3    23.9           8.0        22.3   \n",
       "\n",
       "    Professional  Service  CensusTract   Latitude  Longitude         0  \n",
       "39          28.7     17.1  36005000200  40.798844 -73.862111  6.597926  \n",
       "40          28.7     17.1  36005000200  40.798844 -73.858945  6.597926  \n",
       "41          28.7     17.1  36005000200  40.801106 -73.862111  6.597926  \n",
       "42          28.7     17.1  36005000200  40.801106 -73.858945  6.597926  \n",
       "43          28.7     17.1  36005000200  40.801106 -73.855779  6.597926  \n",
       "\n",
       "[5 rows x 31 columns]"
      ]
     },
     "execution_count": 91,
     "metadata": {},
     "output_type": "execute_result"
    }
   ],
   "source": [
    "df_censusna.head()"
   ]
  },
  {
   "cell_type": "code",
   "execution_count": 92,
   "metadata": {},
   "outputs": [
    {
     "data": {
      "text/plain": [
       "Index([    'TotalPop',          'Men',        'Women',       'Income',\n",
       "            'Poverty',        'Drive',      'Carpool',         'Walk',\n",
       "        'OtherTransp',   'WorkAtHome',     'Employed', 'Unemployment',\n",
       "        'PrivateWork',   'PublicWork', 'SelfEmployed',   'FamilyWork',\n",
       "            'Borough',     'County_x',     'Hispanic',        'Black',\n",
       "              'Asian',        'White',       'Office', 'Construction',\n",
       "         'Production', 'Professional',      'Service',  'CensusTract',\n",
       "           'Latitude',    'Longitude',              0],\n",
       "      dtype='object')"
      ]
     },
     "execution_count": 92,
     "metadata": {},
     "output_type": "execute_result"
    }
   ],
   "source": [
    "df_censusna.columns"
   ]
  },
  {
   "cell_type": "code",
   "execution_count": 93,
   "metadata": {
    "scrolled": true
   },
   "outputs": [
    {
     "data": {
      "text/html": [
       "<div>\n",
       "<style scoped>\n",
       "    .dataframe tbody tr th:only-of-type {\n",
       "        vertical-align: middle;\n",
       "    }\n",
       "\n",
       "    .dataframe tbody tr th {\n",
       "        vertical-align: top;\n",
       "    }\n",
       "\n",
       "    .dataframe thead th {\n",
       "        text-align: right;\n",
       "    }\n",
       "</style>\n",
       "<table border=\"1\" class=\"dataframe\">\n",
       "  <thead>\n",
       "    <tr style=\"text-align: right;\">\n",
       "      <th></th>\n",
       "      <th>TotalPop</th>\n",
       "      <th>Men</th>\n",
       "      <th>Women</th>\n",
       "      <th>Income</th>\n",
       "      <th>Poverty</th>\n",
       "      <th>Drive</th>\n",
       "      <th>Carpool</th>\n",
       "      <th>Walk</th>\n",
       "      <th>OtherTransp</th>\n",
       "      <th>WorkAtHome</th>\n",
       "      <th>...</th>\n",
       "      <th>White</th>\n",
       "      <th>Office</th>\n",
       "      <th>Construction</th>\n",
       "      <th>Production</th>\n",
       "      <th>Professional</th>\n",
       "      <th>Service</th>\n",
       "      <th>CensusTract</th>\n",
       "      <th>Latitude</th>\n",
       "      <th>Longitude</th>\n",
       "      <th>0</th>\n",
       "    </tr>\n",
       "  </thead>\n",
       "  <tbody>\n",
       "    <tr>\n",
       "      <th>7781</th>\n",
       "      <td>2272</td>\n",
       "      <td>1021</td>\n",
       "      <td>1251</td>\n",
       "      <td>59493.0</td>\n",
       "      <td>8.8</td>\n",
       "      <td>38.1</td>\n",
       "      <td>0.9</td>\n",
       "      <td>0.0</td>\n",
       "      <td>2.6</td>\n",
       "      <td>0.0</td>\n",
       "      <td>...</td>\n",
       "      <td>0.0</td>\n",
       "      <td>41.0</td>\n",
       "      <td>8.0</td>\n",
       "      <td>4.4</td>\n",
       "      <td>24.1</td>\n",
       "      <td>22.4</td>\n",
       "      <td>36081018401</td>\n",
       "      <td>40.674472</td>\n",
       "      <td>-73.792462</td>\n",
       "      <td>7.301032</td>\n",
       "    </tr>\n",
       "    <tr>\n",
       "      <th>7782</th>\n",
       "      <td>2272</td>\n",
       "      <td>1021</td>\n",
       "      <td>1251</td>\n",
       "      <td>59493.0</td>\n",
       "      <td>8.8</td>\n",
       "      <td>38.1</td>\n",
       "      <td>0.9</td>\n",
       "      <td>0.0</td>\n",
       "      <td>2.6</td>\n",
       "      <td>0.0</td>\n",
       "      <td>...</td>\n",
       "      <td>0.0</td>\n",
       "      <td>41.0</td>\n",
       "      <td>8.0</td>\n",
       "      <td>4.4</td>\n",
       "      <td>24.1</td>\n",
       "      <td>22.4</td>\n",
       "      <td>36081018401</td>\n",
       "      <td>40.674472</td>\n",
       "      <td>-73.789296</td>\n",
       "      <td>7.301032</td>\n",
       "    </tr>\n",
       "    <tr>\n",
       "      <th>7783</th>\n",
       "      <td>2272</td>\n",
       "      <td>1021</td>\n",
       "      <td>1251</td>\n",
       "      <td>59493.0</td>\n",
       "      <td>8.8</td>\n",
       "      <td>38.1</td>\n",
       "      <td>0.9</td>\n",
       "      <td>0.0</td>\n",
       "      <td>2.6</td>\n",
       "      <td>0.0</td>\n",
       "      <td>...</td>\n",
       "      <td>0.0</td>\n",
       "      <td>41.0</td>\n",
       "      <td>8.0</td>\n",
       "      <td>4.4</td>\n",
       "      <td>24.1</td>\n",
       "      <td>22.4</td>\n",
       "      <td>36081018401</td>\n",
       "      <td>40.676734</td>\n",
       "      <td>-73.792462</td>\n",
       "      <td>7.301032</td>\n",
       "    </tr>\n",
       "    <tr>\n",
       "      <th>8009</th>\n",
       "      <td>2818</td>\n",
       "      <td>1272</td>\n",
       "      <td>1546</td>\n",
       "      <td>37857.0</td>\n",
       "      <td>35.4</td>\n",
       "      <td>38.5</td>\n",
       "      <td>5.3</td>\n",
       "      <td>4.3</td>\n",
       "      <td>2.8</td>\n",
       "      <td>3.8</td>\n",
       "      <td>...</td>\n",
       "      <td>0.0</td>\n",
       "      <td>30.5</td>\n",
       "      <td>4.1</td>\n",
       "      <td>16.5</td>\n",
       "      <td>14.7</td>\n",
       "      <td>34.2</td>\n",
       "      <td>36081026000</td>\n",
       "      <td>40.690302</td>\n",
       "      <td>-73.795628</td>\n",
       "      <td>7.261332</td>\n",
       "    </tr>\n",
       "    <tr>\n",
       "      <th>8010</th>\n",
       "      <td>2818</td>\n",
       "      <td>1272</td>\n",
       "      <td>1546</td>\n",
       "      <td>37857.0</td>\n",
       "      <td>35.4</td>\n",
       "      <td>38.5</td>\n",
       "      <td>5.3</td>\n",
       "      <td>4.3</td>\n",
       "      <td>2.8</td>\n",
       "      <td>3.8</td>\n",
       "      <td>...</td>\n",
       "      <td>0.0</td>\n",
       "      <td>30.5</td>\n",
       "      <td>4.1</td>\n",
       "      <td>16.5</td>\n",
       "      <td>14.7</td>\n",
       "      <td>34.2</td>\n",
       "      <td>36081026000</td>\n",
       "      <td>40.692563</td>\n",
       "      <td>-73.795628</td>\n",
       "      <td>7.261332</td>\n",
       "    </tr>\n",
       "    <tr>\n",
       "      <th>8011</th>\n",
       "      <td>2818</td>\n",
       "      <td>1272</td>\n",
       "      <td>1546</td>\n",
       "      <td>37857.0</td>\n",
       "      <td>35.4</td>\n",
       "      <td>38.5</td>\n",
       "      <td>5.3</td>\n",
       "      <td>4.3</td>\n",
       "      <td>2.8</td>\n",
       "      <td>3.8</td>\n",
       "      <td>...</td>\n",
       "      <td>0.0</td>\n",
       "      <td>30.5</td>\n",
       "      <td>4.1</td>\n",
       "      <td>16.5</td>\n",
       "      <td>14.7</td>\n",
       "      <td>34.2</td>\n",
       "      <td>36081026000</td>\n",
       "      <td>40.692563</td>\n",
       "      <td>-73.792462</td>\n",
       "      <td>7.261332</td>\n",
       "    </tr>\n",
       "    <tr>\n",
       "      <th>8015</th>\n",
       "      <td>1208</td>\n",
       "      <td>508</td>\n",
       "      <td>700</td>\n",
       "      <td>64464.0</td>\n",
       "      <td>20.4</td>\n",
       "      <td>35.2</td>\n",
       "      <td>5.3</td>\n",
       "      <td>2.8</td>\n",
       "      <td>0.0</td>\n",
       "      <td>0.0</td>\n",
       "      <td>...</td>\n",
       "      <td>0.0</td>\n",
       "      <td>26.6</td>\n",
       "      <td>7.3</td>\n",
       "      <td>9.1</td>\n",
       "      <td>23.8</td>\n",
       "      <td>33.3</td>\n",
       "      <td>36081026200</td>\n",
       "      <td>40.690302</td>\n",
       "      <td>-73.792462</td>\n",
       "      <td>7.321684</td>\n",
       "    </tr>\n",
       "    <tr>\n",
       "      <th>8016</th>\n",
       "      <td>1208</td>\n",
       "      <td>508</td>\n",
       "      <td>700</td>\n",
       "      <td>64464.0</td>\n",
       "      <td>20.4</td>\n",
       "      <td>35.2</td>\n",
       "      <td>5.3</td>\n",
       "      <td>2.8</td>\n",
       "      <td>0.0</td>\n",
       "      <td>0.0</td>\n",
       "      <td>...</td>\n",
       "      <td>0.0</td>\n",
       "      <td>26.6</td>\n",
       "      <td>7.3</td>\n",
       "      <td>9.1</td>\n",
       "      <td>23.8</td>\n",
       "      <td>33.3</td>\n",
       "      <td>36081026200</td>\n",
       "      <td>40.692563</td>\n",
       "      <td>-73.789296</td>\n",
       "      <td>7.321684</td>\n",
       "    </tr>\n",
       "    <tr>\n",
       "      <th>8024</th>\n",
       "      <td>1933</td>\n",
       "      <td>976</td>\n",
       "      <td>957</td>\n",
       "      <td>27833.0</td>\n",
       "      <td>24.9</td>\n",
       "      <td>35.0</td>\n",
       "      <td>3.5</td>\n",
       "      <td>0.0</td>\n",
       "      <td>2.0</td>\n",
       "      <td>5.0</td>\n",
       "      <td>...</td>\n",
       "      <td>0.0</td>\n",
       "      <td>32.0</td>\n",
       "      <td>8.1</td>\n",
       "      <td>11.5</td>\n",
       "      <td>13.7</td>\n",
       "      <td>34.8</td>\n",
       "      <td>36081026600</td>\n",
       "      <td>40.690302</td>\n",
       "      <td>-73.782965</td>\n",
       "      <td>7.266028</td>\n",
       "    </tr>\n",
       "    <tr>\n",
       "      <th>8025</th>\n",
       "      <td>1933</td>\n",
       "      <td>976</td>\n",
       "      <td>957</td>\n",
       "      <td>27833.0</td>\n",
       "      <td>24.9</td>\n",
       "      <td>35.0</td>\n",
       "      <td>3.5</td>\n",
       "      <td>0.0</td>\n",
       "      <td>2.0</td>\n",
       "      <td>5.0</td>\n",
       "      <td>...</td>\n",
       "      <td>0.0</td>\n",
       "      <td>32.0</td>\n",
       "      <td>8.1</td>\n",
       "      <td>11.5</td>\n",
       "      <td>13.7</td>\n",
       "      <td>34.8</td>\n",
       "      <td>36081026600</td>\n",
       "      <td>40.690302</td>\n",
       "      <td>-73.779799</td>\n",
       "      <td>7.266028</td>\n",
       "    </tr>\n",
       "    <tr>\n",
       "      <th>8026</th>\n",
       "      <td>1933</td>\n",
       "      <td>976</td>\n",
       "      <td>957</td>\n",
       "      <td>27833.0</td>\n",
       "      <td>24.9</td>\n",
       "      <td>35.0</td>\n",
       "      <td>3.5</td>\n",
       "      <td>0.0</td>\n",
       "      <td>2.0</td>\n",
       "      <td>5.0</td>\n",
       "      <td>...</td>\n",
       "      <td>0.0</td>\n",
       "      <td>32.0</td>\n",
       "      <td>8.1</td>\n",
       "      <td>11.5</td>\n",
       "      <td>13.7</td>\n",
       "      <td>34.8</td>\n",
       "      <td>36081026600</td>\n",
       "      <td>40.692563</td>\n",
       "      <td>-73.782965</td>\n",
       "      <td>7.266028</td>\n",
       "    </tr>\n",
       "    <tr>\n",
       "      <th>8045</th>\n",
       "      <td>1781</td>\n",
       "      <td>723</td>\n",
       "      <td>1058</td>\n",
       "      <td>58188.0</td>\n",
       "      <td>5.4</td>\n",
       "      <td>41.3</td>\n",
       "      <td>9.2</td>\n",
       "      <td>1.2</td>\n",
       "      <td>0.0</td>\n",
       "      <td>0.0</td>\n",
       "      <td>...</td>\n",
       "      <td>0.0</td>\n",
       "      <td>33.8</td>\n",
       "      <td>10.2</td>\n",
       "      <td>6.7</td>\n",
       "      <td>27.7</td>\n",
       "      <td>21.6</td>\n",
       "      <td>36081027400</td>\n",
       "      <td>40.683518</td>\n",
       "      <td>-73.789296</td>\n",
       "      <td>7.327765</td>\n",
       "    </tr>\n",
       "    <tr>\n",
       "      <th>8046</th>\n",
       "      <td>1781</td>\n",
       "      <td>723</td>\n",
       "      <td>1058</td>\n",
       "      <td>58188.0</td>\n",
       "      <td>5.4</td>\n",
       "      <td>41.3</td>\n",
       "      <td>9.2</td>\n",
       "      <td>1.2</td>\n",
       "      <td>0.0</td>\n",
       "      <td>0.0</td>\n",
       "      <td>...</td>\n",
       "      <td>0.0</td>\n",
       "      <td>33.8</td>\n",
       "      <td>10.2</td>\n",
       "      <td>6.7</td>\n",
       "      <td>27.7</td>\n",
       "      <td>21.6</td>\n",
       "      <td>36081027400</td>\n",
       "      <td>40.685779</td>\n",
       "      <td>-73.789296</td>\n",
       "      <td>7.327765</td>\n",
       "    </tr>\n",
       "    <tr>\n",
       "      <th>8056</th>\n",
       "      <td>2437</td>\n",
       "      <td>1054</td>\n",
       "      <td>1383</td>\n",
       "      <td>38147.0</td>\n",
       "      <td>24.7</td>\n",
       "      <td>29.7</td>\n",
       "      <td>3.3</td>\n",
       "      <td>5.1</td>\n",
       "      <td>0.0</td>\n",
       "      <td>2.2</td>\n",
       "      <td>...</td>\n",
       "      <td>0.0</td>\n",
       "      <td>30.3</td>\n",
       "      <td>6.6</td>\n",
       "      <td>15.5</td>\n",
       "      <td>13.9</td>\n",
       "      <td>33.7</td>\n",
       "      <td>36081027800</td>\n",
       "      <td>40.685779</td>\n",
       "      <td>-73.782965</td>\n",
       "      <td>7.316340</td>\n",
       "    </tr>\n",
       "    <tr>\n",
       "      <th>8057</th>\n",
       "      <td>2437</td>\n",
       "      <td>1054</td>\n",
       "      <td>1383</td>\n",
       "      <td>38147.0</td>\n",
       "      <td>24.7</td>\n",
       "      <td>29.7</td>\n",
       "      <td>3.3</td>\n",
       "      <td>5.1</td>\n",
       "      <td>0.0</td>\n",
       "      <td>2.2</td>\n",
       "      <td>...</td>\n",
       "      <td>0.0</td>\n",
       "      <td>30.3</td>\n",
       "      <td>6.6</td>\n",
       "      <td>15.5</td>\n",
       "      <td>13.9</td>\n",
       "      <td>33.7</td>\n",
       "      <td>36081027800</td>\n",
       "      <td>40.688040</td>\n",
       "      <td>-73.782965</td>\n",
       "      <td>7.316340</td>\n",
       "    </tr>\n",
       "    <tr>\n",
       "      <th>8062</th>\n",
       "      <td>1775</td>\n",
       "      <td>786</td>\n",
       "      <td>989</td>\n",
       "      <td>79792.0</td>\n",
       "      <td>2.2</td>\n",
       "      <td>39.1</td>\n",
       "      <td>1.9</td>\n",
       "      <td>0.0</td>\n",
       "      <td>1.2</td>\n",
       "      <td>1.3</td>\n",
       "      <td>...</td>\n",
       "      <td>0.0</td>\n",
       "      <td>23.5</td>\n",
       "      <td>7.9</td>\n",
       "      <td>8.5</td>\n",
       "      <td>20.5</td>\n",
       "      <td>39.5</td>\n",
       "      <td>36081028000</td>\n",
       "      <td>40.685779</td>\n",
       "      <td>-73.779799</td>\n",
       "      <td>7.347704</td>\n",
       "    </tr>\n",
       "    <tr>\n",
       "      <th>8063</th>\n",
       "      <td>1775</td>\n",
       "      <td>786</td>\n",
       "      <td>989</td>\n",
       "      <td>79792.0</td>\n",
       "      <td>2.2</td>\n",
       "      <td>39.1</td>\n",
       "      <td>1.9</td>\n",
       "      <td>0.0</td>\n",
       "      <td>1.2</td>\n",
       "      <td>1.3</td>\n",
       "      <td>...</td>\n",
       "      <td>0.0</td>\n",
       "      <td>23.5</td>\n",
       "      <td>7.9</td>\n",
       "      <td>8.5</td>\n",
       "      <td>20.5</td>\n",
       "      <td>39.5</td>\n",
       "      <td>36081028000</td>\n",
       "      <td>40.688040</td>\n",
       "      <td>-73.779799</td>\n",
       "      <td>7.347704</td>\n",
       "    </tr>\n",
       "    <tr>\n",
       "      <th>8401</th>\n",
       "      <td>3717</td>\n",
       "      <td>1783</td>\n",
       "      <td>1934</td>\n",
       "      <td>46276.0</td>\n",
       "      <td>26.4</td>\n",
       "      <td>21.6</td>\n",
       "      <td>2.3</td>\n",
       "      <td>7.6</td>\n",
       "      <td>3.4</td>\n",
       "      <td>1.1</td>\n",
       "      <td>...</td>\n",
       "      <td>0.0</td>\n",
       "      <td>22.4</td>\n",
       "      <td>13.4</td>\n",
       "      <td>18.2</td>\n",
       "      <td>9.5</td>\n",
       "      <td>36.5</td>\n",
       "      <td>36081037700</td>\n",
       "      <td>40.755879</td>\n",
       "      <td>-73.868442</td>\n",
       "      <td>7.288551</td>\n",
       "    </tr>\n",
       "    <tr>\n",
       "      <th>8574</th>\n",
       "      <td>1507</td>\n",
       "      <td>658</td>\n",
       "      <td>849</td>\n",
       "      <td>88750.0</td>\n",
       "      <td>2.4</td>\n",
       "      <td>40.8</td>\n",
       "      <td>6.6</td>\n",
       "      <td>0.0</td>\n",
       "      <td>0.0</td>\n",
       "      <td>6.6</td>\n",
       "      <td>...</td>\n",
       "      <td>0.1</td>\n",
       "      <td>25.9</td>\n",
       "      <td>2.5</td>\n",
       "      <td>8.8</td>\n",
       "      <td>39.2</td>\n",
       "      <td>23.7</td>\n",
       "      <td>36081043200</td>\n",
       "      <td>40.690302</td>\n",
       "      <td>-73.776633</td>\n",
       "      <td>7.349952</td>\n",
       "    </tr>\n",
       "    <tr>\n",
       "      <th>8575</th>\n",
       "      <td>1507</td>\n",
       "      <td>658</td>\n",
       "      <td>849</td>\n",
       "      <td>88750.0</td>\n",
       "      <td>2.4</td>\n",
       "      <td>40.8</td>\n",
       "      <td>6.6</td>\n",
       "      <td>0.0</td>\n",
       "      <td>0.0</td>\n",
       "      <td>6.6</td>\n",
       "      <td>...</td>\n",
       "      <td>0.1</td>\n",
       "      <td>25.9</td>\n",
       "      <td>2.5</td>\n",
       "      <td>8.8</td>\n",
       "      <td>39.2</td>\n",
       "      <td>23.7</td>\n",
       "      <td>36081043200</td>\n",
       "      <td>40.692563</td>\n",
       "      <td>-73.779799</td>\n",
       "      <td>7.349952</td>\n",
       "    </tr>\n",
       "  </tbody>\n",
       "</table>\n",
       "<p>20 rows × 31 columns</p>\n",
       "</div>"
      ],
      "text/plain": [
       "      TotalPop   Men  Women   Income  Poverty  Drive  Carpool  Walk  \\\n",
       "7781      2272  1021   1251  59493.0      8.8   38.1      0.9   0.0   \n",
       "7782      2272  1021   1251  59493.0      8.8   38.1      0.9   0.0   \n",
       "7783      2272  1021   1251  59493.0      8.8   38.1      0.9   0.0   \n",
       "8009      2818  1272   1546  37857.0     35.4   38.5      5.3   4.3   \n",
       "8010      2818  1272   1546  37857.0     35.4   38.5      5.3   4.3   \n",
       "8011      2818  1272   1546  37857.0     35.4   38.5      5.3   4.3   \n",
       "8015      1208   508    700  64464.0     20.4   35.2      5.3   2.8   \n",
       "8016      1208   508    700  64464.0     20.4   35.2      5.3   2.8   \n",
       "8024      1933   976    957  27833.0     24.9   35.0      3.5   0.0   \n",
       "8025      1933   976    957  27833.0     24.9   35.0      3.5   0.0   \n",
       "8026      1933   976    957  27833.0     24.9   35.0      3.5   0.0   \n",
       "8045      1781   723   1058  58188.0      5.4   41.3      9.2   1.2   \n",
       "8046      1781   723   1058  58188.0      5.4   41.3      9.2   1.2   \n",
       "8056      2437  1054   1383  38147.0     24.7   29.7      3.3   5.1   \n",
       "8057      2437  1054   1383  38147.0     24.7   29.7      3.3   5.1   \n",
       "8062      1775   786    989  79792.0      2.2   39.1      1.9   0.0   \n",
       "8063      1775   786    989  79792.0      2.2   39.1      1.9   0.0   \n",
       "8401      3717  1783   1934  46276.0     26.4   21.6      2.3   7.6   \n",
       "8574      1507   658    849  88750.0      2.4   40.8      6.6   0.0   \n",
       "8575      1507   658    849  88750.0      2.4   40.8      6.6   0.0   \n",
       "\n",
       "      OtherTransp  WorkAtHome  ...  White  Office  Construction  Production  \\\n",
       "7781          2.6         0.0  ...    0.0    41.0           8.0         4.4   \n",
       "7782          2.6         0.0  ...    0.0    41.0           8.0         4.4   \n",
       "7783          2.6         0.0  ...    0.0    41.0           8.0         4.4   \n",
       "8009          2.8         3.8  ...    0.0    30.5           4.1        16.5   \n",
       "8010          2.8         3.8  ...    0.0    30.5           4.1        16.5   \n",
       "8011          2.8         3.8  ...    0.0    30.5           4.1        16.5   \n",
       "8015          0.0         0.0  ...    0.0    26.6           7.3         9.1   \n",
       "8016          0.0         0.0  ...    0.0    26.6           7.3         9.1   \n",
       "8024          2.0         5.0  ...    0.0    32.0           8.1        11.5   \n",
       "8025          2.0         5.0  ...    0.0    32.0           8.1        11.5   \n",
       "8026          2.0         5.0  ...    0.0    32.0           8.1        11.5   \n",
       "8045          0.0         0.0  ...    0.0    33.8          10.2         6.7   \n",
       "8046          0.0         0.0  ...    0.0    33.8          10.2         6.7   \n",
       "8056          0.0         2.2  ...    0.0    30.3           6.6        15.5   \n",
       "8057          0.0         2.2  ...    0.0    30.3           6.6        15.5   \n",
       "8062          1.2         1.3  ...    0.0    23.5           7.9         8.5   \n",
       "8063          1.2         1.3  ...    0.0    23.5           7.9         8.5   \n",
       "8401          3.4         1.1  ...    0.0    22.4          13.4        18.2   \n",
       "8574          0.0         6.6  ...    0.1    25.9           2.5         8.8   \n",
       "8575          0.0         6.6  ...    0.1    25.9           2.5         8.8   \n",
       "\n",
       "      Professional  Service  CensusTract   Latitude  Longitude         0  \n",
       "7781          24.1     22.4  36081018401  40.674472 -73.792462  7.301032  \n",
       "7782          24.1     22.4  36081018401  40.674472 -73.789296  7.301032  \n",
       "7783          24.1     22.4  36081018401  40.676734 -73.792462  7.301032  \n",
       "8009          14.7     34.2  36081026000  40.690302 -73.795628  7.261332  \n",
       "8010          14.7     34.2  36081026000  40.692563 -73.795628  7.261332  \n",
       "8011          14.7     34.2  36081026000  40.692563 -73.792462  7.261332  \n",
       "8015          23.8     33.3  36081026200  40.690302 -73.792462  7.321684  \n",
       "8016          23.8     33.3  36081026200  40.692563 -73.789296  7.321684  \n",
       "8024          13.7     34.8  36081026600  40.690302 -73.782965  7.266028  \n",
       "8025          13.7     34.8  36081026600  40.690302 -73.779799  7.266028  \n",
       "8026          13.7     34.8  36081026600  40.692563 -73.782965  7.266028  \n",
       "8045          27.7     21.6  36081027400  40.683518 -73.789296  7.327765  \n",
       "8046          27.7     21.6  36081027400  40.685779 -73.789296  7.327765  \n",
       "8056          13.9     33.7  36081027800  40.685779 -73.782965  7.316340  \n",
       "8057          13.9     33.7  36081027800  40.688040 -73.782965  7.316340  \n",
       "8062          20.5     39.5  36081028000  40.685779 -73.779799  7.347704  \n",
       "8063          20.5     39.5  36081028000  40.688040 -73.779799  7.347704  \n",
       "8401           9.5     36.5  36081037700  40.755879 -73.868442  7.288551  \n",
       "8574          39.2     23.7  36081043200  40.690302 -73.776633  7.349952  \n",
       "8575          39.2     23.7  36081043200  40.692563 -73.779799  7.349952  \n",
       "\n",
       "[20 rows x 31 columns]"
      ]
     },
     "execution_count": 93,
     "metadata": {},
     "output_type": "execute_result"
    }
   ],
   "source": [
    "#creating a new data frame that shows the predictions only 7.25 and higher, which will show only \n",
    "# the areas where the next most profitable stations will be. \n",
    "new_station=df_censusna[df_censusna[0]>= 7.25]\n",
    "new_station.head(20)"
   ]
  },
  {
   "cell_type": "code",
   "execution_count": 94,
   "metadata": {
    "scrolled": true
   },
   "outputs": [
    {
     "data": {
      "text/plain": [
       "Index([    'TotalPop',          'Men',        'Women',       'Income',\n",
       "            'Poverty',        'Drive',      'Carpool',         'Walk',\n",
       "        'OtherTransp',   'WorkAtHome',     'Employed', 'Unemployment',\n",
       "        'PrivateWork',   'PublicWork', 'SelfEmployed',   'FamilyWork',\n",
       "            'Borough',     'County_x',     'Hispanic',        'Black',\n",
       "              'Asian',        'White',       'Office', 'Construction',\n",
       "         'Production', 'Professional',      'Service',  'CensusTract',\n",
       "           'Latitude',    'Longitude',              0],\n",
       "      dtype='object')"
      ]
     },
     "execution_count": 94,
     "metadata": {},
     "output_type": "execute_result"
    }
   ],
   "source": [
    "new_station.columns"
   ]
  },
  {
   "cell_type": "code",
   "execution_count": 95,
   "metadata": {},
   "outputs": [],
   "source": [
    "#create a new csv so it is easier to call the dataframe up. \n",
    "new_station.to_csv('new_station.csv')"
   ]
  },
  {
   "cell_type": "code",
   "execution_count": 99,
   "metadata": {},
   "outputs": [
    {
     "data": {
      "image/png": "[encoded data removed]",
      "text/plain": [
       "<Figure size 576x611.36 with 2 Axes>"
      ]
     },
     "metadata": {
      "needs_background": "light"
     },
     "output_type": "display_data"
    }
   ],
   "source": [
    "latmin = 40.48\n",
    "lonmin = -74.28\n",
    "latmax = 40.93\n",
    "lonmax = -73.65\n",
    "ratio = np.cos(40.7 * np.pi/180) * (lonmax-lonmin) /(latmax-latmin)\n",
    "from matplotlib.colors import LogNorm\n",
    "fig = plt.figure(1, figsize=(8,ratio*8) )\n",
    "hist = plt.hist2d(new_station.Longitude,new_station.Latitude,bins=199,range=[[lonmin,lonmax],[latmin,latmax]],norm=LogNorm())\n",
    "plt.xlabel('Longitude [degrees]')\n",
    "plt.ylabel('Latitude [degrees]')\n",
    "plt.title('Suggested New Station Locations')\n",
    "plt.colorbar(label='Number')\n",
    "plt.show()"
   ]
  },
  {
   "cell_type": "markdown",
   "metadata": {},
   "source": [
    "Map shows the newest stations should be in Queens. The yellow dots show where the first stations should be added. "
   ]
  },
  {
   "cell_type": "code",
   "execution_count": 97,
   "metadata": {},
   "outputs": [
    {
     "data": {
      "text/plain": [
       "<bound method hist_series of 7781    Queens\n",
       "7782    Queens\n",
       "7783    Queens\n",
       "8009    Queens\n",
       "8010    Queens\n",
       "8011    Queens\n",
       "8015    Queens\n",
       "8016    Queens\n",
       "8024    Queens\n",
       "8025    Queens\n",
       "8026    Queens\n",
       "8045    Queens\n",
       "8046    Queens\n",
       "8056    Queens\n",
       "8057    Queens\n",
       "8062    Queens\n",
       "8063    Queens\n",
       "8401    Queens\n",
       "8574    Queens\n",
       "8575    Queens\n",
       "8576    Queens\n",
       "8577    Queens\n",
       "8588    Queens\n",
       "8589    Queens\n",
       "8590    Queens\n",
       "8591    Queens\n",
       "8592    Queens\n",
       "8593    Queens\n",
       "8807    Queens\n",
       "8808    Queens\n",
       "8809    Queens\n",
       "8810    Queens\n",
       "8811    Queens\n",
       "8823    Queens\n",
       "8824    Queens\n",
       "8831    Queens\n",
       "8832    Queens\n",
       "8842    Queens\n",
       "8843    Queens\n",
       "8844    Queens\n",
       "8845    Queens\n",
       "8846    Queens\n",
       "8847    Queens\n",
       "8868    Queens\n",
       "8869    Queens\n",
       "8870    Queens\n",
       "8871    Queens\n",
       "9099    Queens\n",
       "9100    Queens\n",
       "9101    Queens\n",
       "9867    Queens\n",
       "9868    Queens\n",
       "9869    Queens\n",
       "9870    Queens\n",
       "9871    Queens\n",
       "9872    Queens\n",
       "Name: Borough, dtype: object>"
      ]
     },
     "execution_count": 97,
     "metadata": {},
     "output_type": "execute_result"
    }
   ],
   "source": [
    "new_station.Borough.hist"
   ]
  },
  {
   "cell_type": "code",
   "execution_count": 98,
   "metadata": {
    "scrolled": false
   },
   "outputs": [
    {
     "name": "stderr",
     "output_type": "stream",
     "text": [
      "/anaconda3/lib/python3.7/site-packages/scipy/stats/stats.py:1713: FutureWarning: Using a non-tuple sequence for multidimensional indexing is deprecated; use `arr[tuple(seq)]` instead of `arr[seq]`. In the future this will be interpreted as an array index, `arr[np.array(seq)]`, which will result either in an error or a different result.\n",
      "  return np.add.reduce(sorted[indexer] * weights, axis=axis) / sumval\n"
     ]
    },
    {
     "data": {
      "image/png": "[encoded data removed]",
      "text/plain": [
       "<Figure size 465.375x360 with 1 Axes>"
      ]
     },
     "metadata": {
      "needs_background": "light"
     },
     "output_type": "display_data"
    }
   ],
   "source": [
    "sns.catplot(x='Borough',y='Income',hue='CensusTract',kind='bar', data=new_station)\n",
    "\n",
    "plt.xlabel('Borough', fontsize=16)\n",
    "plt.ylabel('Yearly Income', fontsize=16)\n",
    "plt.title('Location of New Station vs Income', fontsize=16)\n",
    "plt.show()"
   ]
  },
  {
   "cell_type": "markdown",
   "metadata": {},
   "source": [
    "This bar graph shows that within the different census tracts/ areas of Queen the income levels vary. For those that average $50,000-60,000/year would find the bike share stations probably most helpful as it would save them money on subway passes and the ability to ride into the city without having to find a place to keep their bike locked during the day. "
   ]
  },
  {
   "cell_type": "code",
   "execution_count": null,
   "metadata": {},
   "outputs": [],
   "source": []
  }
 ],
 "metadata": {
  "kernelspec": {
   "display_name": "Python 3",
   "language": "python",
   "name": "python3"
  },
  "language_info": {
   "codemirror_mode": {
    "name": "ipython",
    "version": 3
   },
   "file_extension": ".py",
   "mimetype": "text/x-python",
   "name": "python",
   "nbconvert_exporter": "python",
   "pygments_lexer": "ipython3",
   "version": "3.7.3"
  }
 },
 "nbformat": 4,
 "nbformat_minor": 2
}
