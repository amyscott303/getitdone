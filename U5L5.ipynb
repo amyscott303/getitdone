{
 "cells": [
  {
   "cell_type": "code",
   "execution_count": 1,
   "metadata": {},
   "outputs": [],
   "source": [
    "import pandas as pd\n",
    "import numpy as np\n",
    "import scipy\n",
    "import sklearn\n",
    "import spacy\n",
    "import matplotlib.pyplot as plt\n",
    "import seaborn as sns\n",
    "import re"
   ]
  },
  {
   "cell_type": "code",
   "execution_count": 2,
   "metadata": {
    "scrolled": true
   },
   "outputs": [
    {
     "data": {
      "text/html": [
       "<div>\n",
       "<style scoped>\n",
       "    .dataframe tbody tr th:only-of-type {\n",
       "        vertical-align: middle;\n",
       "    }\n",
       "\n",
       "    .dataframe tbody tr th {\n",
       "        vertical-align: top;\n",
       "    }\n",
       "\n",
       "    .dataframe thead th {\n",
       "        text-align: right;\n",
       "    }\n",
       "</style>\n",
       "<table border=\"1\" class=\"dataframe\">\n",
       "  <thead>\n",
       "    <tr style=\"text-align: right;\">\n",
       "      <th></th>\n",
       "      <th>cntry</th>\n",
       "      <th>idno</th>\n",
       "      <th>year</th>\n",
       "      <th>tvtot</th>\n",
       "      <th>ppltrst</th>\n",
       "      <th>pplfair</th>\n",
       "      <th>pplhlp</th>\n",
       "      <th>happy</th>\n",
       "      <th>sclmeet</th>\n",
       "      <th>sclact</th>\n",
       "      <th>gndr</th>\n",
       "      <th>agea</th>\n",
       "      <th>partner</th>\n",
       "    </tr>\n",
       "  </thead>\n",
       "  <tbody>\n",
       "    <tr>\n",
       "      <th>0</th>\n",
       "      <td>CH</td>\n",
       "      <td>5.0</td>\n",
       "      <td>6</td>\n",
       "      <td>3.0</td>\n",
       "      <td>3.0</td>\n",
       "      <td>10.0</td>\n",
       "      <td>5.0</td>\n",
       "      <td>8.0</td>\n",
       "      <td>5.0</td>\n",
       "      <td>4.0</td>\n",
       "      <td>2.0</td>\n",
       "      <td>60.0</td>\n",
       "      <td>1.0</td>\n",
       "    </tr>\n",
       "    <tr>\n",
       "      <th>1</th>\n",
       "      <td>CH</td>\n",
       "      <td>25.0</td>\n",
       "      <td>6</td>\n",
       "      <td>6.0</td>\n",
       "      <td>5.0</td>\n",
       "      <td>7.0</td>\n",
       "      <td>5.0</td>\n",
       "      <td>9.0</td>\n",
       "      <td>3.0</td>\n",
       "      <td>2.0</td>\n",
       "      <td>2.0</td>\n",
       "      <td>59.0</td>\n",
       "      <td>1.0</td>\n",
       "    </tr>\n",
       "    <tr>\n",
       "      <th>2</th>\n",
       "      <td>CH</td>\n",
       "      <td>26.0</td>\n",
       "      <td>6</td>\n",
       "      <td>1.0</td>\n",
       "      <td>8.0</td>\n",
       "      <td>8.0</td>\n",
       "      <td>8.0</td>\n",
       "      <td>7.0</td>\n",
       "      <td>6.0</td>\n",
       "      <td>3.0</td>\n",
       "      <td>1.0</td>\n",
       "      <td>24.0</td>\n",
       "      <td>2.0</td>\n",
       "    </tr>\n",
       "    <tr>\n",
       "      <th>3</th>\n",
       "      <td>CH</td>\n",
       "      <td>28.0</td>\n",
       "      <td>6</td>\n",
       "      <td>4.0</td>\n",
       "      <td>6.0</td>\n",
       "      <td>6.0</td>\n",
       "      <td>7.0</td>\n",
       "      <td>10.0</td>\n",
       "      <td>6.0</td>\n",
       "      <td>2.0</td>\n",
       "      <td>2.0</td>\n",
       "      <td>64.0</td>\n",
       "      <td>1.0</td>\n",
       "    </tr>\n",
       "    <tr>\n",
       "      <th>4</th>\n",
       "      <td>CH</td>\n",
       "      <td>29.0</td>\n",
       "      <td>6</td>\n",
       "      <td>5.0</td>\n",
       "      <td>6.0</td>\n",
       "      <td>7.0</td>\n",
       "      <td>5.0</td>\n",
       "      <td>8.0</td>\n",
       "      <td>7.0</td>\n",
       "      <td>2.0</td>\n",
       "      <td>2.0</td>\n",
       "      <td>55.0</td>\n",
       "      <td>1.0</td>\n",
       "    </tr>\n",
       "    <tr>\n",
       "      <th>5</th>\n",
       "      <td>CH</td>\n",
       "      <td>36.0</td>\n",
       "      <td>6</td>\n",
       "      <td>4.0</td>\n",
       "      <td>6.0</td>\n",
       "      <td>7.0</td>\n",
       "      <td>3.0</td>\n",
       "      <td>8.0</td>\n",
       "      <td>7.0</td>\n",
       "      <td>4.0</td>\n",
       "      <td>2.0</td>\n",
       "      <td>NaN</td>\n",
       "      <td>2.0</td>\n",
       "    </tr>\n",
       "    <tr>\n",
       "      <th>6</th>\n",
       "      <td>CH</td>\n",
       "      <td>40.0</td>\n",
       "      <td>6</td>\n",
       "      <td>3.0</td>\n",
       "      <td>0.0</td>\n",
       "      <td>5.0</td>\n",
       "      <td>2.0</td>\n",
       "      <td>0.0</td>\n",
       "      <td>2.0</td>\n",
       "      <td>2.0</td>\n",
       "      <td>1.0</td>\n",
       "      <td>76.0</td>\n",
       "      <td>1.0</td>\n",
       "    </tr>\n",
       "    <tr>\n",
       "      <th>7</th>\n",
       "      <td>CH</td>\n",
       "      <td>41.0</td>\n",
       "      <td>6</td>\n",
       "      <td>2.0</td>\n",
       "      <td>4.0</td>\n",
       "      <td>5.0</td>\n",
       "      <td>3.0</td>\n",
       "      <td>10.0</td>\n",
       "      <td>5.0</td>\n",
       "      <td>2.0</td>\n",
       "      <td>2.0</td>\n",
       "      <td>30.0</td>\n",
       "      <td>1.0</td>\n",
       "    </tr>\n",
       "    <tr>\n",
       "      <th>8</th>\n",
       "      <td>CH</td>\n",
       "      <td>51.0</td>\n",
       "      <td>6</td>\n",
       "      <td>2.0</td>\n",
       "      <td>8.0</td>\n",
       "      <td>8.0</td>\n",
       "      <td>8.0</td>\n",
       "      <td>9.0</td>\n",
       "      <td>6.0</td>\n",
       "      <td>4.0</td>\n",
       "      <td>2.0</td>\n",
       "      <td>84.0</td>\n",
       "      <td>2.0</td>\n",
       "    </tr>\n",
       "    <tr>\n",
       "      <th>9</th>\n",
       "      <td>CH</td>\n",
       "      <td>53.0</td>\n",
       "      <td>6</td>\n",
       "      <td>4.0</td>\n",
       "      <td>4.0</td>\n",
       "      <td>4.0</td>\n",
       "      <td>8.0</td>\n",
       "      <td>7.0</td>\n",
       "      <td>4.0</td>\n",
       "      <td>2.0</td>\n",
       "      <td>2.0</td>\n",
       "      <td>62.0</td>\n",
       "      <td>1.0</td>\n",
       "    </tr>\n",
       "  </tbody>\n",
       "</table>\n",
       "</div>"
      ],
      "text/plain": [
       "  cntry  idno  year  tvtot  ppltrst  pplfair  pplhlp  happy  sclmeet  sclact  \\\n",
       "0    CH   5.0     6    3.0      3.0     10.0     5.0    8.0      5.0     4.0   \n",
       "1    CH  25.0     6    6.0      5.0      7.0     5.0    9.0      3.0     2.0   \n",
       "2    CH  26.0     6    1.0      8.0      8.0     8.0    7.0      6.0     3.0   \n",
       "3    CH  28.0     6    4.0      6.0      6.0     7.0   10.0      6.0     2.0   \n",
       "4    CH  29.0     6    5.0      6.0      7.0     5.0    8.0      7.0     2.0   \n",
       "5    CH  36.0     6    4.0      6.0      7.0     3.0    8.0      7.0     4.0   \n",
       "6    CH  40.0     6    3.0      0.0      5.0     2.0    0.0      2.0     2.0   \n",
       "7    CH  41.0     6    2.0      4.0      5.0     3.0   10.0      5.0     2.0   \n",
       "8    CH  51.0     6    2.0      8.0      8.0     8.0    9.0      6.0     4.0   \n",
       "9    CH  53.0     6    4.0      4.0      4.0     8.0    7.0      4.0     2.0   \n",
       "\n",
       "   gndr  agea  partner  \n",
       "0   2.0  60.0      1.0  \n",
       "1   2.0  59.0      1.0  \n",
       "2   1.0  24.0      2.0  \n",
       "3   2.0  64.0      1.0  \n",
       "4   2.0  55.0      1.0  \n",
       "5   2.0   NaN      2.0  \n",
       "6   1.0  76.0      1.0  \n",
       "7   2.0  30.0      1.0  \n",
       "8   2.0  84.0      2.0  \n",
       "9   2.0  62.0      1.0  "
      ]
     },
     "execution_count": 2,
     "metadata": {},
     "output_type": "execute_result"
    }
   ],
   "source": [
    "data= pd.read_csv('https://raw.githubusercontent.com/Thinkful-Ed/data-201-resources/master/ESS_practice_data/ESSdata_Thinkful.csv')\n",
    "data.head(10)"
   ]
  },
  {
   "cell_type": "code",
   "execution_count": 3,
   "metadata": {},
   "outputs": [],
   "source": [
    "def func(r):\n",
    "        if r ==6:\n",
    "            return '2012'\n",
    "        else : \n",
    "            return '2014'\n",
    "        \n",
    "data['Year']=data['year'].apply(func)\n",
    "\n"
   ]
  },
  {
   "cell_type": "code",
   "execution_count": 4,
   "metadata": {
    "scrolled": false
   },
   "outputs": [],
   "source": [
    "def func(g):\n",
    "        if g ==1:\n",
    "            return 'Male'\n",
    "        else : \n",
    "            return 'Female'\n",
    "        \n",
    "data['gndr2']=data['gndr'].apply(func)\n"
   ]
  },
  {
   "cell_type": "code",
   "execution_count": 5,
   "metadata": {},
   "outputs": [],
   "source": [
    "def func(p):\n",
    "        if p ==1:\n",
    "            return 'Lives with Partner'\n",
    "        else : \n",
    "            return 'No Partner'\n",
    "        \n",
    "data['Partner']=data['partner'].apply(func)"
   ]
  },
  {
   "cell_type": "markdown",
   "metadata": {},
   "source": [
    "#1 Did people become less trusting from 2012 to 2014? Compute results for each country in the sample."
   ]
  },
  {
   "cell_type": "code",
   "execution_count": 6,
   "metadata": {},
   "outputs": [
    {
     "data": {
      "image/png": "[encoded data removed]",
      "text/plain": [
       "<Figure size 1296x360 with 1 Axes>"
      ]
     },
     "metadata": {
      "needs_background": "light"
     },
     "output_type": "display_data"
    }
   ],
   "source": [
    "data.groupby([\"Year\",'cntry']).ppltrst.mean().unstack().plot(kind=\"bar\", figsize=(18,5))\n",
    "plt.xlabel(\"Year\", fontsize=16)\n",
    "plt.ylabel(\"People Trust\", fontsize=16)\n",
    "plt.title(\"Trust level by year\", fontsize=18)\n",
    "plt.show()"
   ]
  },
  {
   "cell_type": "markdown",
   "metadata": {},
   "source": [
    "For most of the countries you can see that they actually go more trusting from 2012 to 2014, accept for ES(Spain) and NO (Norway) both look like they dipped slightly in 2014 from 2012. "
   ]
  },
  {
   "cell_type": "markdown",
   "metadata": {},
   "source": [
    "#2 Did people become happier from 2012 to 2014? Compute results for each country in the sample."
   ]
  },
  {
   "cell_type": "code",
   "execution_count": 7,
   "metadata": {},
   "outputs": [
    {
     "data": {
      "image/png": "[encoded data removed]",
      "text/plain": [
       "<Figure size 1296x360 with 1 Axes>"
      ]
     },
     "metadata": {
      "needs_background": "light"
     },
     "output_type": "display_data"
    }
   ],
   "source": [
    "data.groupby([\"Year\",'cntry']).happy.mean().unstack().plot(kind=\"bar\", figsize=(18,5))\n",
    "plt.xlabel(\"Year\", fontsize=16)\n",
    "plt.ylabel(\"How Happy?\", fontsize=16)\n",
    "plt.title(\"Happiness by year\", fontsize=18)\n",
    "plt.show()"
   ]
  },
  {
   "cell_type": "markdown",
   "metadata": {},
   "source": [
    "By looking at the graphs it looks like many of the countries saw a slight increase or remained the same from 2012 to 2014. However, NO(Norway) is lower, less happy, in 2014 then 2012. "
   ]
  },
  {
   "cell_type": "markdown",
   "metadata": {},
   "source": [
    "#3 Who reported watching more TV in 2012, men or women?"
   ]
  },
  {
   "cell_type": "code",
   "execution_count": 15,
   "metadata": {},
   "outputs": [
    {
     "data": {
      "image/png": "[encoded data removed]",
      "text/plain": [
       "<Figure size 432.625x360 with 1 Axes>"
      ]
     },
     "metadata": {
      "needs_background": "light"
     },
     "output_type": "display_data"
    }
   ],
   "source": [
    "sns.catplot(x='Year',y='tvtot',hue='gndr2',kind='bar', data=data)\n",
    "plt.xlabel(\"Year\", fontsize=16)\n",
    "plt.ylabel(\"Total TV Time\", fontsize=16)\n",
    "plt.title(\"Gender vs TV Time\", fontsize=18)\n",
    "plt.show()"
   ]
  },
  {
   "cell_type": "markdown",
   "metadata": {},
   "source": [
    "Females watched more tv in both 2012 and 2014. "
   ]
  },
  {
   "cell_type": "markdown",
   "metadata": {},
   "source": [
    "#4 Who was more likely to believe people were fair in 2012, people living with a partner or people living alone?"
   ]
  },
  {
   "cell_type": "code",
   "execution_count": 16,
   "metadata": {
    "scrolled": true
   },
   "outputs": [
    {
     "data": {
      "image/png": "[encoded data removed]",
      "text/plain": [
       "<Figure size 485.875x360 with 1 Axes>"
      ]
     },
     "metadata": {
      "needs_background": "light"
     },
     "output_type": "display_data"
    }
   ],
   "source": [
    "#2 bar graphs one for people living with and living without\n",
    "sns.catplot(x='Year',y='pplfair',hue='Partner',kind='bar', data=data)\n",
    "plt.xlabel(\"Year\", fontsize=16)\n",
    "plt.ylabel(\"People being Fair\", fontsize=16)\n",
    "plt.title(\"Living with a Partner more likely to believe people are fair?\", fontsize=18)\n",
    "plt.show()"
   ]
  },
  {
   "cell_type": "markdown",
   "metadata": {},
   "source": [
    "People who live with their partners are shown to believe that people will are more likely to be fair then take advantage of youin both 2012 and 2014."
   ]
  },
  {
   "cell_type": "code",
   "execution_count": 10,
   "metadata": {},
   "outputs": [],
   "source": [
    "data2= data[data['cntry'].isin(['CZ','SE','NO'])]"
   ]
  },
  {
   "cell_type": "code",
   "execution_count": 11,
   "metadata": {},
   "outputs": [
    {
     "name": "stdout",
     "output_type": "stream",
     "text": [
      "     cntry    idno  year  tvtot  ppltrst  pplfair  pplhlp  happy  sclmeet  \\\n",
      "1546    CZ  1001.0     6    2.0     10.0      9.0     4.0    9.0      6.0   \n",
      "1547    CZ  1002.0     6    4.0      5.0      4.0     6.0    8.0      6.0   \n",
      "1548    CZ  1003.0     6    1.0      9.0      8.0     6.0    9.0      5.0   \n",
      "1549    CZ  1004.0     6    3.0      2.0      1.0     2.0    7.0      4.0   \n",
      "1550    CZ  1005.0     6    7.0      2.0     10.0     6.0    4.0      5.0   \n",
      "1551    CZ  1006.0     6    7.0      3.0     10.0     3.0    3.0      NaN   \n",
      "1552    CZ  1007.0     6    4.0      3.0      5.0     3.0    6.0      6.0   \n",
      "1553    CZ  1008.0     6    7.0      4.0      4.0     3.0    8.0      6.0   \n",
      "1554    CZ  1009.0     6    7.0      4.0      6.0     4.0    7.0      2.0   \n",
      "1555    CZ  1010.0     6    6.0      4.0      6.0     6.0    7.0      4.0   \n",
      "1556    CZ  1011.0     6    4.0      3.0      3.0     3.0    6.0      6.0   \n",
      "1557    CZ  1012.0     6    5.0      6.0      7.0     3.0    7.0      3.0   \n",
      "1558    CZ  1013.0     6    6.0      5.0      5.0     5.0    5.0      5.0   \n",
      "1559    CZ  1014.0     6    6.0      5.0      5.0     3.0    7.0      6.0   \n",
      "1560    CZ  1015.0     6    6.0      3.0      5.0     5.0    6.0      2.0   \n",
      "1561    CZ  1016.0     6    3.0      3.0      4.0     2.0    7.0      7.0   \n",
      "1562    CZ  1017.0     6    5.0      4.0      4.0     4.0    3.0      2.0   \n",
      "1563    CZ  1018.0     6    7.0      1.0      0.0     0.0   10.0      1.0   \n",
      "1564    CZ  1019.0     6    7.0      2.0      4.0     2.0    4.0      5.0   \n",
      "1565    CZ  1020.0     6    6.0      3.0      5.0     4.0    6.0      4.0   \n",
      "1566    CZ  1021.0     6    4.0      7.0      5.0     5.0    5.0      4.0   \n",
      "1567    CZ  1022.0     6    7.0      2.0      3.0     4.0    7.0      7.0   \n",
      "1568    CZ  1023.0     6    7.0      4.0      3.0     5.0    7.0      6.0   \n",
      "1569    CZ  1024.0     6    6.0      7.0      7.0     4.0    6.0      7.0   \n",
      "1570    CZ  1025.0     6    4.0      6.0      8.0     4.0    8.0      5.0   \n",
      "1571    CZ  1026.0     6    7.0      5.0      6.0     4.0    7.0      4.0   \n",
      "1572    CZ  1028.0     6    6.0      3.0      6.0     3.0    6.0      2.0   \n",
      "1573    CZ  1029.0     6    5.0      8.0      8.0     8.0    9.0      2.0   \n",
      "1574    CZ  1030.0     6    6.0      3.0      3.0     3.0    5.0      4.0   \n",
      "1575    CZ  1031.0     6    6.0      5.0      3.0     4.0    7.0      5.0   \n",
      "...    ...     ...   ...    ...      ...      ...     ...    ...      ...   \n",
      "8564    SE  3659.0     7    2.0      1.0      5.0     4.0   10.0      7.0   \n",
      "8565    SE  3661.0     7    5.0      5.0      3.0     4.0    5.0      6.0   \n",
      "8566    SE  3662.0     7    2.0      7.0      8.0     6.0    8.0      7.0   \n",
      "8567    SE  3665.0     7    2.0      4.0      8.0     7.0    9.0      7.0   \n",
      "8568    SE  3666.0     7    1.0      2.0      8.0     6.0    9.0      7.0   \n",
      "8569    SE  3668.0     7    6.0      5.0      3.0     4.0    9.0      6.0   \n",
      "8570    SE  3670.0     7    1.0      5.0      7.0     7.0    8.0      7.0   \n",
      "8571    SE  3671.0     7    3.0      4.0      9.0     7.0    8.0      6.0   \n",
      "8572    SE  3682.0     7    5.0      7.0      8.0     5.0    8.0      3.0   \n",
      "8573    SE  3684.0     7    1.0      8.0      8.0     6.0    9.0      7.0   \n",
      "8574    SE  3687.0     7    1.0      4.0      5.0     6.0    7.0      7.0   \n",
      "8575    SE  3689.0     7    3.0      8.0      7.0     7.0    8.0      7.0   \n",
      "8576    SE  3690.0     7    4.0      5.0      4.0     4.0    7.0      6.0   \n",
      "8577    SE  3692.0     7    6.0      6.0      9.0     7.0    5.0      4.0   \n",
      "8578    SE  3696.0     7    1.0      5.0      5.0     5.0    7.0      5.0   \n",
      "8579    SE  3700.0     7    2.0      8.0      9.0     7.0    9.0      7.0   \n",
      "8580    SE  3702.0     7    4.0      7.0      8.0     5.0   10.0      4.0   \n",
      "8581    SE  3703.0     7    1.0      6.0      7.0     6.0    8.0      6.0   \n",
      "8582    SE  3707.0     7    6.0      7.0      7.0     6.0    8.0      7.0   \n",
      "8583    SE  3708.0     7    2.0      6.0      8.0     5.0   10.0      6.0   \n",
      "8584    SE  3709.0     7    2.0      8.0     10.0     6.0    9.0      6.0   \n",
      "8585    SE  3712.0     7    1.0      3.0      6.0     4.0    9.0      7.0   \n",
      "8586    SE  3716.0     7    2.0      4.0      6.0     3.0    7.0      7.0   \n",
      "8587    SE  3720.0     7    4.0      4.0      6.0     7.0    9.0      7.0   \n",
      "8588    SE  3727.0     7    1.0      6.0      5.0     5.0   10.0      7.0   \n",
      "8589    SE  3729.0     7    3.0      4.0      5.0     3.0    6.0      6.0   \n",
      "8590    SE  3732.0     7    5.0      6.0      4.0     4.0   10.0      6.0   \n",
      "8591    SE  3743.0     7    4.0      5.0      7.0     6.0    8.0      6.0   \n",
      "8592    SE  3744.0     7    5.0      8.0      8.0     6.0    9.0      7.0   \n",
      "8593    SE  3746.0     7    2.0      6.0      7.0     5.0    7.0      7.0   \n",
      "\n",
      "      sclact  gndr  agea  partner  Year   gndr2             Partner Age_bins  \n",
      "1546     3.0   1.0  39.0      1.0  2012    Male  Lives with Partner   Middle  \n",
      "1547     3.0   1.0  29.0      1.0  2012    Male  Lives with Partner   Middle  \n",
      "1548     5.0   1.0  33.0      2.0  2012    Male          No Partner   Middle  \n",
      "1549     3.0   1.0  24.0      2.0  2012    Male          No Partner    Young  \n",
      "1550     3.0   2.0  63.0      2.0  2012  Female          No Partner      Old  \n",
      "1551     1.0   2.0  58.0      2.0  2012  Female          No Partner      Old  \n",
      "1552     1.0   1.0  41.0      1.0  2012    Male  Lives with Partner   Middle  \n",
      "1553     3.0   2.0  43.0      1.0  2012  Female  Lives with Partner   Middle  \n",
      "1554     2.0   1.0  57.0      1.0  2012    Male  Lives with Partner      Old  \n",
      "1555     3.0   2.0  37.0      1.0  2012  Female  Lives with Partner   Middle  \n",
      "1556     3.0   1.0  27.0      2.0  2012    Male          No Partner   Middle  \n",
      "1557     2.0   2.0  48.0      1.0  2012  Female  Lives with Partner   Middle  \n",
      "1558     1.0   2.0  64.0      1.0  2012  Female  Lives with Partner      Old  \n",
      "1559     3.0   1.0  31.0      2.0  2012    Male          No Partner   Middle  \n",
      "1560     2.0   1.0  52.0      1.0  2012    Male  Lives with Partner      Old  \n",
      "1561     3.0   2.0  64.0      1.0  2012  Female  Lives with Partner      Old  \n",
      "1562     3.0   2.0  38.0      1.0  2012  Female  Lives with Partner   Middle  \n",
      "1563     1.0   1.0  47.0      2.0  2012    Male          No Partner   Middle  \n",
      "1564     1.0   2.0  57.0      1.0  2012  Female  Lives with Partner      Old  \n",
      "1565     3.0   2.0  74.0      1.0  2012  Female  Lives with Partner      Old  \n",
      "1566     3.0   1.0  36.0      2.0  2012    Male          No Partner   Middle  \n",
      "1567     4.0   2.0  71.0      1.0  2012  Female  Lives with Partner      Old  \n",
      "1568     3.0   2.0  65.0      2.0  2012  Female          No Partner      Old  \n",
      "1569     2.0   2.0  51.0      1.0  2012  Female  Lives with Partner      Old  \n",
      "1570     3.0   1.0  68.0      2.0  2012    Male          No Partner      Old  \n",
      "1571     3.0   2.0  69.0      2.0  2012  Female          No Partner      Old  \n",
      "1572     2.0   2.0  48.0      1.0  2012  Female  Lives with Partner   Middle  \n",
      "1573     1.0   1.0  38.0      1.0  2012    Male  Lives with Partner   Middle  \n",
      "1574     1.0   2.0  72.0      1.0  2012  Female  Lives with Partner      Old  \n",
      "1575     1.0   1.0  42.0      1.0  2012    Male  Lives with Partner   Middle  \n",
      "...      ...   ...   ...      ...   ...     ...                 ...      ...  \n",
      "8564     4.0   1.0  17.0      2.0  2014    Male          No Partner    Young  \n",
      "8565     1.0   2.0  17.0      2.0  2014  Female          No Partner    Young  \n",
      "8566     3.0   2.0  17.0      2.0  2014  Female          No Partner    Young  \n",
      "8567     4.0   2.0  17.0      2.0  2014  Female          No Partner    Young  \n",
      "8568     3.0   2.0  17.0      2.0  2014  Female          No Partner    Young  \n",
      "8569     4.0   1.0  17.0      2.0  2014    Male          No Partner    Young  \n",
      "8570     4.0   1.0  16.0      2.0  2014    Male          No Partner    Young  \n",
      "8571     3.0   1.0  16.0      2.0  2014    Male          No Partner    Young  \n",
      "8572     1.0   1.0  16.0      2.0  2014    Male          No Partner    Young  \n",
      "8573     3.0   2.0  16.0      2.0  2014  Female          No Partner    Young  \n",
      "8574     3.0   2.0  16.0      2.0  2014  Female          No Partner    Young  \n",
      "8575     3.0   1.0  16.0      2.0  2014    Male          No Partner    Young  \n",
      "8576     3.0   1.0  16.0      2.0  2014    Male          No Partner    Young  \n",
      "8577     2.0   2.0  16.0      2.0  2014  Female          No Partner    Young  \n",
      "8578     4.0   2.0  16.0      2.0  2014  Female          No Partner    Young  \n",
      "8579     3.0   2.0  16.0      2.0  2014  Female          No Partner    Young  \n",
      "8580     1.0   1.0  16.0      2.0  2014    Male          No Partner    Young  \n",
      "8581     3.0   1.0  16.0      2.0  2014    Male          No Partner    Young  \n",
      "8582     3.0   1.0  16.0      2.0  2014    Male          No Partner    Young  \n",
      "8583     5.0   1.0  16.0      2.0  2014    Male          No Partner    Young  \n",
      "8584     2.0   1.0  16.0      2.0  2014    Male          No Partner    Young  \n",
      "8585     3.0   1.0  16.0      2.0  2014    Male          No Partner    Young  \n",
      "8586     3.0   2.0  15.0      2.0  2014  Female          No Partner    Young  \n",
      "8587     3.0   1.0  15.0      2.0  2014    Male          No Partner    Young  \n",
      "8588     2.0   1.0  15.0      2.0  2014    Male          No Partner    Young  \n",
      "8589     2.0   1.0  18.0      2.0  2014    Male          No Partner    Young  \n",
      "8590     3.0   1.0  15.0      2.0  2014    Male          No Partner    Young  \n",
      "8591     3.0   1.0  44.0      2.0  2014    Male          No Partner   Middle  \n",
      "8592     3.0   1.0  15.0      2.0  2014    Male          No Partner    Young  \n",
      "8593     4.0   2.0  15.0      2.0  2014  Female          No Partner    Young  \n",
      "\n",
      "[4594 rows x 17 columns]\n"
     ]
    },
    {
     "name": "stderr",
     "output_type": "stream",
     "text": [
      "/anaconda3/lib/python3.7/site-packages/ipykernel_launcher.py:9: SettingWithCopyWarning: \n",
      "A value is trying to be set on a copy of a slice from a DataFrame.\n",
      "Try using .loc[row_indexer,col_indexer] = value instead\n",
      "\n",
      "See the caveats in the documentation: http://pandas.pydata.org/pandas-docs/stable/indexing.html#indexing-view-versus-copy\n",
      "  if __name__ == '__main__':\n"
     ]
    }
   ],
   "source": [
    "def func(i):\n",
    "        if i < 25:\n",
    "            return 'Young'\n",
    "        elif i > 50:\n",
    "            return 'Old'\n",
    "        else : \n",
    "            return 'Middle'\n",
    "        \n",
    "data2['Age_bins']=data['agea'].apply(func)\n",
    "print(data2)"
   ]
  },
  {
   "cell_type": "markdown",
   "metadata": {},
   "source": [
    "#5 Pick three or four of the countries in the sample and compare how often people met socially in 2014. Are there differences, and if so, which countries stand out?"
   ]
  },
  {
   "cell_type": "code",
   "execution_count": 12,
   "metadata": {},
   "outputs": [
    {
     "data": {
      "image/png": "[encoded data removed]",
      "text/plain": [
       "<Figure size 1296x360 with 1 Axes>"
      ]
     },
     "metadata": {
      "needs_background": "light"
     },
     "output_type": "display_data"
    }
   ],
   "source": [
    "data2.groupby([\"Year\",'cntry']).sclmeet.mean().unstack().plot(kind=\"bar\", figsize=(18,5))\n",
    "plt.xlabel(\"Year\", fontsize=16)\n",
    "plt.ylabel(\"Meet Socially\", fontsize=16)\n",
    "plt.title(\"Meeting Socially by Year\", fontsize=18)\n",
    "plt.show()"
   ]
  },
  {
   "cell_type": "markdown",
   "metadata": {},
   "source": [
    "In 2014 Norway (NO) was slightly less likely to meet socially as they were in 2012. Czech and Sweden seem to stay the same for both years. "
   ]
  },
  {
   "cell_type": "markdown",
   "metadata": {},
   "source": [
    "#6 Pick three or four of the countries in the sample and compare how often people took part in social activities, relative to others their age, in 2014. Are there differences, and if so, which countries stand out?"
   ]
  },
  {
   "cell_type": "code",
   "execution_count": 20,
   "metadata": {},
   "outputs": [
    {
     "data": {
      "image/png": "[encoded data removed]",
      "text/plain": [
       "<Figure size 1296x360 with 1 Axes>"
      ]
     },
     "metadata": {
      "needs_background": "light"
     },
     "output_type": "display_data"
    }
   ],
   "source": [
    "data2.groupby([\"Age_bins\",'cntry']).sclact.mean().unstack().plot(kind=\"bar\", figsize=(18,5))\n",
    "plt.xlabel(\"Age\", fontsize=16)\n",
    "plt.ylabel(\"social activity\", fontsize=16)\n",
    "plt.title(\"Social Activity vs Age\", fontsize=18)\n",
    "plt.show()"
   ]
  },
  {
   "cell_type": "markdown",
   "metadata": {},
   "source": [
    "For all 3 countries the younger population, under 25, took part in more social activities. There is a significant different between the three age groups for Czech (CZ), the younger population partipated significantly more then the middle and older popluation. For Norway (NO) it looks like the middle and young population (50 and younger) participated equally however, the older population(over 50) average more activities then the other two groups. Sweden (SE) seem to be equal amongst the three age groups. "
   ]
  },
  {
   "cell_type": "code",
   "execution_count": null,
   "metadata": {},
   "outputs": [],
   "source": []
  }
 ],
 "metadata": {
  "kernelspec": {
   "display_name": "Python 3",
   "language": "python",
   "name": "python3"
  },
  "language_info": {
   "codemirror_mode": {
    "name": "ipython",
    "version": 3
   },
   "file_extension": ".py",
   "mimetype": "text/x-python",
   "name": "python",
   "nbconvert_exporter": "python",
   "pygments_lexer": "ipython3",
   "version": "3.7.3"
  }
 },
 "nbformat": 4,
 "nbformat_minor": 2
}
